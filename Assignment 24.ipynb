{
 "cells": [
  {
   "cell_type": "code",
   "execution_count": null,
   "id": "1798806a",
   "metadata": {},
   "outputs": [],
   "source": [
    "Q1. Is it permissible to use several import statements to import the same \n",
    "module? What would the goal be? Can you think of a situation where it would be\n",
    "beneficial ?\n",
    "Ans. Yes, it is permissible to use several import statement to import the same \n",
    "module. It is used in case when we have to import multiple functions from same\n",
    "module."
   ]
  },
  {
   "cell_type": "code",
   "execution_count": null,
   "id": "fa169dab",
   "metadata": {},
   "outputs": [],
   "source": [
    "Q2. What are some of a module's characteristics? (Name at least one.)\n",
    "Ans. The following are some of a module's characteristics:\n",
    "__name__ : It returns the name of the module\n",
    "__doc__ : It denotes the documentation string line written in a module code.\n",
    "__file__ : It holds the name and path of the module file from which it is loaded\n",
    "__dict__ : it return a dictionary object of module attributes, functions and other\n",
    "definitions and their respective values."
   ]
  },
  {
   "cell_type": "code",
   "execution_count": null,
   "id": "35678243",
   "metadata": {},
   "outputs": [],
   "source": [
    "Q3. Circular importing, such as when two modules import each other, can lead to \n",
    "dependencies and bugs that aren't visible. How can you go about creating a program \n",
    "that avoids mutual importing?\n",
    "Ans Circular importing means importing the two modules in each other. If suppose\n",
    "we are working in MOD1.py file and it is importing some function say F2() from \n",
    "some other module sya MOD2.py file or we can do vice-versa. What will happen :\n",
    "This will give an import error.\n",
    "This is because when we import F2() function from module MOD2.py then this will\n",
    "execute MOD2.py file and in MOD2.py file there is an another statement of importing\n",
    "MOD1.py module.\n",
    "This will result in endless loop. To avoid this error just do one thing We can \n",
    "use if __name__ == '__main__'\n",
    "In the function, you can't directly refer to the function in the program. The \n",
    "addition of this sentence avoids the endless loop of the program."
   ]
  },
  {
   "cell_type": "code",
   "execution_count": null,
   "id": "0b6dc5f2",
   "metadata": {},
   "outputs": [],
   "source": [
    "Q4. Why is __all__ in Python ?\n",
    "Ans. It provides list of all modules present in a library."
   ]
  },
  {
   "cell_type": "code",
   "execution_count": null,
   "id": "898cad30",
   "metadata": {},
   "outputs": [],
   "source": [
    "Q5. In what situation is it useful to refer to the __name__ attribute or the \n",
    "string __main_ _ ?\n",
    "Ans.During the time of execution of the code if we want to refer the module in \n",
    "which we are working on then we uses name attribute. In that case it will return \n",
    "the module in which we are working on. Suppose if that module is being imported\n",
    "from some other module then name will have the name of that module from where \n",
    "the current module has been imported. The current module in which we are working \n",
    "is refer to the string __main__."
   ]
  }
 ],
 "metadata": {
  "kernelspec": {
   "display_name": "Python 3 (ipykernel)",
   "language": "python",
   "name": "python3"
  },
  "language_info": {
   "codemirror_mode": {
    "name": "ipython",
    "version": 3
   },
   "file_extension": ".py",
   "mimetype": "text/x-python",
   "name": "python",
   "nbconvert_exporter": "python",
   "pygments_lexer": "ipython3",
   "version": "3.9.7"
  }
 },
 "nbformat": 4,
 "nbformat_minor": 5
}
