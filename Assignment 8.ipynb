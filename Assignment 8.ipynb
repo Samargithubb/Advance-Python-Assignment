{
 "cells": [
  {
   "cell_type": "code",
   "execution_count": null,
   "id": "8318c3ed",
   "metadata": {},
   "outputs": [],
   "source": [
    "Q1. What are the two latest user-defined exception constraints in Python 3.X?\n",
    "Ans. raise and assert are the two latest user-defined exception constaints in \n",
    "python 3.X\n"
   ]
  },
  {
   "cell_type": "code",
   "execution_count": null,
   "id": "f8dda779",
   "metadata": {},
   "outputs": [],
   "source": [
    "Q2. How are class-based exceptions that have been raised matched to handlers?\n",
    "Ans. In python, users can define custome exceptions by creating a new class. This \n",
    "exception class has to be derived, either directly or indirectly from built-in Exception\n",
    "class. This new exception class like other exceptions can be raised using the \n",
    "raise statement with an optional error message.\n"
   ]
  },
  {
   "cell_type": "code",
   "execution_count": 3,
   "id": "5fb90296",
   "metadata": {},
   "outputs": [
    {
     "ename": "age_Limit_Exception",
     "evalue": "To young for voting",
     "output_type": "error",
     "traceback": [
      "\u001b[1;31m---------------------------------------------------------------------------\u001b[0m",
      "\u001b[1;31mage_Limit_Exception\u001b[0m                       Traceback (most recent call last)",
      "\u001b[1;32m~\\AppData\\Local\\Temp/ipykernel_4144/2026861808.py\u001b[0m in \u001b[0;36m<module>\u001b[1;34m\u001b[0m\n\u001b[0;32m      3\u001b[0m         \u001b[0mself\u001b[0m\u001b[1;33m.\u001b[0m\u001b[0mmsg\u001b[0m\u001b[1;33m=\u001b[0m\u001b[0mmsg\u001b[0m\u001b[1;33m\u001b[0m\u001b[1;33m\u001b[0m\u001b[0m\n\u001b[0;32m      4\u001b[0m \u001b[0mage\u001b[0m\u001b[1;33m=\u001b[0m\u001b[1;36m12\u001b[0m\u001b[1;33m\u001b[0m\u001b[1;33m\u001b[0m\u001b[0m\n\u001b[1;32m----> 5\u001b[1;33m \u001b[1;32mif\u001b[0m \u001b[0mage\u001b[0m \u001b[1;33m<=\u001b[0m\u001b[1;36m18\u001b[0m\u001b[1;33m:\u001b[0m \u001b[1;32mraise\u001b[0m \u001b[0mage_Limit_Exception\u001b[0m\u001b[1;33m(\u001b[0m\u001b[1;34m'To young for voting'\u001b[0m\u001b[1;33m)\u001b[0m\u001b[1;33m\u001b[0m\u001b[1;33m\u001b[0m\u001b[0m\n\u001b[0m",
      "\u001b[1;31mage_Limit_Exception\u001b[0m: To young for voting"
     ]
    }
   ],
   "source": [
    "class age_Limit_Exception(Exception):\n",
    "    def __init__(self,msg):\n",
    "        self.msg=msg\n",
    "age=12\n",
    "if age <=18: raise age_Limit_Exception('To young for voting')"
   ]
  },
  {
   "cell_type": "code",
   "execution_count": null,
   "id": "5e375bf1",
   "metadata": {},
   "outputs": [],
   "source": [
    "Q3. Describe two methods for attaching context information to exception artefacts ?\n",
    "Ans. The process() method of LoggerAdapter is where the contextual information is\n",
    "added to the logging output. Its passes the message and keyword arguments of \n",
    "the logging call, and it passes back modified version of these to use in the call\n",
    "to the underlying logger.\n",
    "Other method that can be used is exception().Logs a message with level Error on\n",
    "this logger.The argument are interpreted as for debug().Exception info is added\n",
    "to the logging message."
   ]
  },
  {
   "cell_type": "code",
   "execution_count": null,
   "id": "b00b51e4",
   "metadata": {},
   "outputs": [],
   "source": [
    "Q4. Describe two methods for specifying the text of an exception object's \n",
    "error message ?\n",
    "Ans. raise and assert are two methods for specifying the text of an exception \n",
    "object's error message. raise statement is used to trigger explicit exception, if\n",
    "certain condition is not as per requirement of programmer. It helps in triggering\n",
    "exception as per need of programmer and logic.\n",
    "There are few assertions that programmer always want to be True to avoid code \n",
    "failure.This type of requirment is fulfilled by assert statement.This type of \n",
    "requirment is fullfilled by assert statement.This statement takes a Boolean \n",
    "Condition output of which if True, further programe executes. If output of assert\n",
    "statement is False it raises an Assertion Error.\n"
   ]
  },
  {
   "cell_type": "code",
   "execution_count": null,
   "id": "8813353e",
   "metadata": {},
   "outputs": [],
   "source": [
    "Q5. Why do you no longer use string-based exceptions?\n",
    "Ans. String-Based Exceptions doesn't inherit from Exceptions. So plain \n",
    "exceptions catch all exceptions and not only system."
   ]
  }
 ],
 "metadata": {
  "kernelspec": {
   "display_name": "Python 3 (ipykernel)",
   "language": "python",
   "name": "python3"
  },
  "language_info": {
   "codemirror_mode": {
    "name": "ipython",
    "version": 3
   },
   "file_extension": ".py",
   "mimetype": "text/x-python",
   "name": "python",
   "nbconvert_exporter": "python",
   "pygments_lexer": "ipython3",
   "version": "3.9.7"
  }
 },
 "nbformat": 4,
 "nbformat_minor": 5
}
