{
 "cells": [
  {
   "cell_type": "code",
   "execution_count": 4,
   "id": "0a57fa76",
   "metadata": {},
   "outputs": [
    {
     "name": "stdout",
     "output_type": "stream",
     "text": [
      "2536566570288\n"
     ]
    },
    {
     "ename": "TypeError",
     "evalue": "'str' object does not support item assignment",
     "output_type": "error",
     "traceback": [
      "\u001b[1;31m---------------------------------------------------------------------------\u001b[0m",
      "\u001b[1;31mTypeError\u001b[0m                                 Traceback (most recent call last)",
      "\u001b[1;32m~\\AppData\\Local\\Temp/ipykernel_9408/3588157488.py\u001b[0m in \u001b[0;36m<module>\u001b[1;34m\u001b[0m\n\u001b[0;32m      1\u001b[0m \u001b[0mname\u001b[0m\u001b[1;33m=\u001b[0m\u001b[1;34m\"Samar\"\u001b[0m\u001b[1;33m\u001b[0m\u001b[1;33m\u001b[0m\u001b[0m\n\u001b[0;32m      2\u001b[0m \u001b[0mprint\u001b[0m\u001b[1;33m(\u001b[0m\u001b[0mid\u001b[0m\u001b[1;33m(\u001b[0m\u001b[0mname\u001b[0m\u001b[1;33m)\u001b[0m\u001b[1;33m)\u001b[0m\u001b[1;33m\u001b[0m\u001b[1;33m\u001b[0m\u001b[0m\n\u001b[1;32m----> 3\u001b[1;33m \u001b[0mname\u001b[0m\u001b[1;33m[\u001b[0m\u001b[1;36m0\u001b[0m\u001b[1;33m]\u001b[0m\u001b[1;33m=\u001b[0m\u001b[1;34m'V'\u001b[0m\u001b[1;33m\u001b[0m\u001b[1;33m\u001b[0m\u001b[0m\n\u001b[0m",
      "\u001b[1;31mTypeError\u001b[0m: 'str' object does not support item assignment"
     ]
    }
   ],
   "source": [
    "Q1. Does assigning a value to a string's indexed character violate Python's \n",
    "string immutability ?\n",
    "Ans. String's indexed character cannot to be assigned a New value, as Strings \n",
    "are immutable.\n",
    "Example:\n",
    "name=\"Samar\"\n",
    "print(id(name))\n",
    "name[0]='V'"
   ]
  },
  {
   "cell_type": "code",
   "execution_count": 5,
   "id": "1fae8d45",
   "metadata": {},
   "outputs": [
    {
     "name": "stdout",
     "output_type": "stream",
     "text": [
      "2536492418608\n",
      "2536566556144\n"
     ]
    }
   ],
   "source": [
    "Q2. Does using the += operator to concatenate strings violate Python's string\n",
    "immutability? Why or why not ?\n",
    "Ans. += operator is used to concatenate strings, it does not violate Python's \n",
    "string immutability Property. Because doing so it creates a new association \n",
    "with data and variable. \n",
    "Example: str_1=\"a\" and str_1+=\"b\" effect of this statements to create string ab \n",
    "and reassign it to variable str_1, any string data is not actually modified.\n",
    "\n",
    "str_1 = 'a'\n",
    "print(id(str_1))\n",
    "str_1 += 'b'\n",
    "print(id(str_1)) # Does not Modify existing string, Creates a New String Object"
   ]
  },
  {
   "cell_type": "code",
   "execution_count": 7,
   "id": "b43b822a",
   "metadata": {},
   "outputs": [
    {
     "name": "stdout",
     "output_type": "stream",
     "text": [
      "u l e\n",
      "e i c\n"
     ]
    }
   ],
   "source": [
    "Q3. In Python, how many different ways are there to index a character?\n",
    "Ans. A character in string can be indexed using string name followed by index \n",
    "number of character in square bracket. Positive indexing i.e. first index is 0 \n",
    "and so on , or Negative indexing i.e last letter is -1 and so on can be used to\n",
    "index a character\n",
    "\n",
    "in_string = \"iNeuron Full Stack Data Science\"\n",
    "print(in_string[9],in_string[10],in_string[2]) # Positive Indexing\n",
    "print(in_string[-1],in_string[-5],in_string[-2]) # Negative Indexing\n"
   ]
  },
  {
   "cell_type": "code",
   "execution_count": 8,
   "id": "f7333bf6",
   "metadata": {},
   "outputs": [
    {
     "name": "stdout",
     "output_type": "stream",
     "text": [
      "N u o\n",
      "Neuron Full St\n"
     ]
    }
   ],
   "source": [
    "Q4. What is the relationship between indexing and slicing?\n",
    "Ans. We can access elements of sequence datatypes by using slicing and indexing.\n",
    "Indexing is used to obtaining individual element while slicing for sequence of \n",
    "elements.\n",
    "Example:\n",
    "in_string = \"iNeuron Full Stack Data Science\"\n",
    "print(in_string[1],in_string[3],in_string[5]) # Indexing\n",
    "print(in_string[1:15]) # Slicing"
   ]
  },
  {
   "cell_type": "code",
   "execution_count": 9,
   "id": "5de00a60",
   "metadata": {},
   "outputs": [
    {
     "name": "stdout",
     "output_type": "stream",
     "text": [
      "<class 'str'>\n",
      "<class 'str'>\n"
     ]
    }
   ],
   "source": [
    "Q5. What is an indexed character's exact data type? What is the data form of a\n",
    "slicing-generated substring?\n",
    "Ans. Indexed characters and sliced substrings have datatype String.\n",
    "\n",
    "in_string = \"iNeuron Full Stack Data Science\"\n",
    "print(type(in_string[3])) # Indexing -> str\n",
    "print(type(in_string[1:10])) # Indexing -> str\n"
   ]
  },
  {
   "cell_type": "code",
   "execution_count": null,
   "id": "ae833c9d",
   "metadata": {},
   "outputs": [],
   "source": [
    "Q6. What is the relationship between string and character \"types\" in Python?\n",
    "Ans. Object that contains sequence of character datatypes are called string.\n"
   ]
  },
  {
   "cell_type": "code",
   "execution_count": null,
   "id": "4c496c4b",
   "metadata": {},
   "outputs": [],
   "source": [
    "Q7. Identify at least two operators & one method that allow you to combine one \n",
    "or more smaller strings to create a larger string ?\n",
    "Ans. +,+=,and * allow to combine one or more smaller strings to create a larger\n",
    "string. <string>.join(<sep>) method joins element of iterable type like list and\n",
    "tuple to get a combined string."
   ]
  },
  {
   "cell_type": "code",
   "execution_count": 12,
   "id": "8ab674b5",
   "metadata": {},
   "outputs": [
    {
     "name": "stdout",
     "output_type": "stream",
     "text": [
      "iNeuronFull stack Data scienceFSDS\n",
      "FSDSFSDSFSDS\n",
      "I N\n",
      "i n\n"
     ]
    }
   ],
   "source": [
    "in_string=\"iNeuron\"\n",
    "in_string+=\"Full stack Data science\"\n",
    "print(in_string +\"FSDS\")\n",
    "print(\"FSDS\" *3)\n",
    "print(\" \".join([\"I\",\"N\"]))\n",
    "print(\" \".join([\"I\",\"N\"]).lower())\n"
   ]
  },
  {
   "cell_type": "markdown",
   "id": "61f1e630",
   "metadata": {},
   "source": [
    "Q8. What is the benefit of first checking the target string with in or not in\n",
    "before using the index method to find a substring ?\n",
    "Ans. Checking the target string with in or not Operators before using the index \n",
    "method to find a substring just helps confirming availability of substring and \n",
    "thus avoid raising of ValueError."
   ]
  },
  {
   "cell_type": "code",
   "execution_count": 14,
   "id": "081c862d",
   "metadata": {},
   "outputs": [
    {
     "ename": "ValueError",
     "evalue": "substring not found",
     "output_type": "error",
     "traceback": [
      "\u001b[1;31m---------------------------------------------------------------------------\u001b[0m",
      "\u001b[1;31mValueError\u001b[0m                                Traceback (most recent call last)",
      "\u001b[1;32m~\\AppData\\Local\\Temp/ipykernel_9408/674274994.py\u001b[0m in \u001b[0;36m<module>\u001b[1;34m\u001b[0m\n\u001b[0;32m      1\u001b[0m \u001b[0min_string\u001b[0m\u001b[1;33m=\u001b[0m\u001b[1;34m\"ineuron\"\u001b[0m\u001b[1;33m\u001b[0m\u001b[1;33m\u001b[0m\u001b[0m\n\u001b[1;32m----> 2\u001b[1;33m \u001b[0min_string\u001b[0m\u001b[1;33m.\u001b[0m\u001b[0mindex\u001b[0m\u001b[1;33m(\u001b[0m\u001b[1;34m'x'\u001b[0m\u001b[1;33m)\u001b[0m \u001b[1;31m# Raises ValueError\u001b[0m\u001b[1;33m\u001b[0m\u001b[1;33m\u001b[0m\u001b[0m\n\u001b[0m\u001b[0;32m      3\u001b[0m \u001b[0min_string\u001b[0m\u001b[1;33m.\u001b[0m\u001b[0mindex\u001b[0m\u001b[1;33m(\u001b[0m\u001b[1;34m'u'\u001b[0m\u001b[1;33m)\u001b[0m \u001b[1;31m#3\u001b[0m\u001b[1;33m\u001b[0m\u001b[1;33m\u001b[0m\u001b[0m\n",
      "\u001b[1;31mValueError\u001b[0m: substring not found"
     ]
    }
   ],
   "source": [
    "in_string=\"ineuron\"\n",
    "in_string.index('x') # Raises ValueError\n",
    "in_string.index('u') #3"
   ]
  },
  {
   "cell_type": "code",
   "execution_count": null,
   "id": "6811e1f2",
   "metadata": {},
   "outputs": [],
   "source": [
    "Q9. Which operators and built-in string methods produce simple Boolean \n",
    "(true/false) results?\n",
    "Ans. \n",
    "in\n",
    "not\n",
    "<string>.isalpha()\n",
    "<string>.isalnum()\n",
    "<string>.isdecimal()\n",
    "<string>.isdigit()\n",
    "<string>.islower()\n",
    "<string>.isnumeric()\n",
    "<string>.isprintable()\n",
    "<string>.isspace()\n",
    "<string>.istitle()"
   ]
  }
 ],
 "metadata": {
  "kernelspec": {
   "display_name": "Python 3 (ipykernel)",
   "language": "python",
   "name": "python3"
  },
  "language_info": {
   "codemirror_mode": {
    "name": "ipython",
    "version": 3
   },
   "file_extension": ".py",
   "mimetype": "text/x-python",
   "name": "python",
   "nbconvert_exporter": "python",
   "pygments_lexer": "ipython3",
   "version": "3.9.7"
  }
 },
 "nbformat": 4,
 "nbformat_minor": 5
}
