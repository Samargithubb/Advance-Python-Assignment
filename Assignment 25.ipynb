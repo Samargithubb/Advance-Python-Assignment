{
 "cells": [
  {
   "cell_type": "code",
   "execution_count": null,
   "id": "78eeaf5b",
   "metadata": {},
   "outputs": [],
   "source": [
    "Q1. What is the distinction between a numpy array and a pandas data frame? Is \n",
    "there a way to convert between the two if there is ?\n",
    "Ans. Numpy Ndarray provides a lot of convenient and optimized methods for performing\n",
    "several mathematical operations on vectors.\n",
    "Pandas Dataframe is an in memory 2 dimensional tabular representation of data.\n",
    "In simpler words, it can be seen as a spreadsheet having rows and columns.\n",
    "Conversion: Dataframe=pandas.DataFrame(array)"
   ]
  },
  {
   "cell_type": "code",
   "execution_count": null,
   "id": "7acb092d",
   "metadata": {},
   "outputs": [],
   "source": [
    "Q2. Identify some of the plotting techniques that are used to produce a stock-\n",
    "market chart ?\n",
    "Ans. Bar chart, Line chart are used for plotting."
   ]
  },
  {
   "cell_type": "code",
   "execution_count": null,
   "id": "25ea8fe7",
   "metadata": {},
   "outputs": [],
   "source": [
    "Q3. Why is it essential to print a legend on a stock market chart ?\n",
    "Ans. Legend will help comparision between different stocks, so will be essential on \n",
    "a stock market chart."
   ]
  },
  {
   "cell_type": "code",
   "execution_count": null,
   "id": "f5bf4534",
   "metadata": {},
   "outputs": [],
   "source": [
    "Q4. What is the best way to limit the length of a pandas data frame to less \n",
    "than a year ?\n",
    "Ans. We can use start and end parameters for that. In start we write the date from \n",
    "where we are starting and at the end we write the end date. So within this span \n",
    "we can restric the duration. Also we can use the parameters like periods for \n",
    "how much time we need the duration and we can also use the frequency parameter."
   ]
  },
  {
   "cell_type": "code",
   "execution_count": null,
   "id": "e46dceea",
   "metadata": {},
   "outputs": [],
   "source": [
    "Q5. What is the definition of a 180-day moving average ?\n",
    "Ans. The 180 day moving average is represented as a line on charts and represents \n",
    "the average price over the past 180 days. The moving average can give traders a \n",
    "sense regarding wheather the trend is up or down, while also identifying potential \n",
    "support or resistance areas."
   ]
  }
 ],
 "metadata": {
  "kernelspec": {
   "display_name": "Python 3 (ipykernel)",
   "language": "python",
   "name": "python3"
  },
  "language_info": {
   "codemirror_mode": {
    "name": "ipython",
    "version": 3
   },
   "file_extension": ".py",
   "mimetype": "text/x-python",
   "name": "python",
   "nbconvert_exporter": "python",
   "pygments_lexer": "ipython3",
   "version": "3.9.7"
  }
 },
 "nbformat": 4,
 "nbformat_minor": 5
}
