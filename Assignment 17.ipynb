{
 "cells": [
  {
   "cell_type": "code",
   "execution_count": null,
   "id": "238d5712",
   "metadata": {},
   "outputs": [],
   "source": [
    "Q1. Explain the difference between greedy and non-greedy syntax with visual \n",
    "terms in as few words as possible. What is the bare minimum effort required to \n",
    "transform a greedy pattern into a non-greedy one? What characters or characters\n",
    "can you introduce or change?\n",
    "Ans. The main difference between Greedy and Non Greedy  Syntax is the Greedy \n",
    "Match will try to match as many repetitions of the quantified pattern as possible\n",
    "Whereas The Non Greedy Match will try to match as few repetitions of the quantified\n",
    "pattern as possible."
   ]
  },
  {
   "cell_type": "code",
   "execution_count": 2,
   "id": "a37399f0",
   "metadata": {},
   "outputs": [
    {
     "name": "stdout",
     "output_type": "stream",
     "text": [
      "['vvvvvv', '']\n",
      "['', 'v', '', 'v', '', 'v', '', 'v', '', 'v', '', 'v', '']\n"
     ]
    }
   ],
   "source": [
    "import re \n",
    "print(re.findall('v*','vvvvvv'))# Greedy Match Syntax\n",
    "print(re.findall('v*?','vvvvvv')) # Non greedy Syntax"
   ]
  },
  {
   "cell_type": "code",
   "execution_count": null,
   "id": "6cb79012",
   "metadata": {},
   "outputs": [],
   "source": [
    "Q2. When exactly does greedy versus non-greedy make a difference? What if \n",
    "you're looking for a non-greedy match but the only one available is greedy?\n",
    "Ans. The Greedy Match will try to match as many repetitions of the quantified pattern as possible. The Non \n",
    "Greedy Match will try to match as few repetitions of the quantified pattern as \n",
    "possible. If only Non Greedy Match is available, we can use other filtering or\n",
    "pattern matching methods of regex and further identify the required pattern."
   ]
  },
  {
   "cell_type": "code",
   "execution_count": null,
   "id": "ca903684",
   "metadata": {},
   "outputs": [],
   "source": [
    "Q3. In a simple match of a string, which looks only for one match and does not\n",
    "do any replacement, is the use of a nontagged group likely to make any practical\n",
    "difference?\n",
    "Ans. In this case The Non Tagged group will not make any difference in this case.\n"
   ]
  },
  {
   "cell_type": "code",
   "execution_count": 3,
   "id": "7d11286f",
   "metadata": {},
   "outputs": [
    {
     "name": "stdout",
     "output_type": "stream",
     "text": [
      "Phone number found= 234\n",
      "Phone number found= 234\n"
     ]
    }
   ],
   "source": [
    "import re\n",
    "phoneNumRegex= re.compile(r'\\d\\d\\d')\n",
    "num=phoneNumRegex.search('My number is 234-567-8902.')\n",
    "print(f'Phone number found= {num.group()}') # Non Tagged Group\n",
    "print(f'Phone number found= {num.group(0)}') #Tagged Group"
   ]
  },
  {
   "cell_type": "code",
   "execution_count": null,
   "id": "919fad2d",
   "metadata": {},
   "outputs": [],
   "source": [
    "Q4. Describe a scenario in which using a nontagged category would have a \n",
    "significant impact on the program's outcomes ?\n",
    "Ans. Here in the below code Snipper . decimal is not tagged or captured. It will\n",
    "useful in scenarios where the separator of value in a string is of no use and we\n",
    "need to capture only the values."
   ]
  },
  {
   "cell_type": "code",
   "execution_count": 4,
   "id": "e213bc3c",
   "metadata": {},
   "outputs": [
    {
     "data": {
      "text/plain": [
       "('135', '456')"
      ]
     },
     "execution_count": 4,
     "metadata": {},
     "output_type": "execute_result"
    }
   ],
   "source": [
    "import re\n",
    "text='135.456'\n",
    "pattern=r'(\\d+)(?:.)(\\d+)'\n",
    "regobj=re.compile(pattern)\n",
    "matobj=regobj.search(text)\n",
    "matobj.groups()"
   ]
  },
  {
   "cell_type": "code",
   "execution_count": null,
   "id": "4c23efbe",
   "metadata": {},
   "outputs": [],
   "source": [
    "Q5. Unlike a normal regex pattern, a look-ahead condition does not consume the \n",
    "characters it examines. Describe a situation in which this could make a \n",
    "difference in the results of your programme ?\n",
    "Ans. While counting the number of multiple lines or multiple sentence in a string\n",
    "the positive look ahead makes a difference, without which we wont get the correct\n",
    "count of lines or sentences in a string."
   ]
  },
  {
   "cell_type": "code",
   "execution_count": null,
   "id": "661114f0",
   "metadata": {},
   "outputs": [],
   "source": [
    "Q6. In standard expressions, what is the difference between positive look-ahead\n",
    "and negative look-ahead ?\n",
    "Ans. Positive lookahead allows to add a condition for what follows.Negative \n",
    "Lookahead is similar, but it looks behind. That is, allows to match a pattern \n",
    "only if there's something before it.\n"
   ]
  },
  {
   "cell_type": "code",
   "execution_count": null,
   "id": "a77026c8",
   "metadata": {},
   "outputs": [],
   "source": [
    "Q7. What is the benefit of referring to groups by name rather than by number in\n",
    "a standard expression?\n",
    "Ans: Referring to groups by name rather than by number in a standard expression\n",
    "helps to keep the code clear and easy to understand."
   ]
  },
  {
   "cell_type": "code",
   "execution_count": null,
   "id": "b8383692",
   "metadata": {},
   "outputs": [],
   "source": [
    "Q8. Can you identify repeated items within a target string using named groups,\n",
    "as in \"The cow jumped over the moon\"?"
   ]
  },
  {
   "cell_type": "code",
   "execution_count": 9,
   "id": "f280508a",
   "metadata": {},
   "outputs": [
    {
     "data": {
      "text/plain": [
       "['The', 'the']"
      ]
     },
     "execution_count": 9,
     "metadata": {},
     "output_type": "execute_result"
    }
   ],
   "source": [
    "import re \n",
    "text =\"The cow jumped over the moon\"\n",
    "regobj=re.compile(r'(?P<w1>The)',re.I)\n",
    "regobj.findall(text)"
   ]
  },
  {
   "cell_type": "code",
   "execution_count": null,
   "id": "c2005359",
   "metadata": {},
   "outputs": [],
   "source": [
    "Q9. When parsing a string, what is at least one thing that the Scanner interface\n",
    "does for you that the re.findall feature does not ?\n",
    "Ans re.findall() module is used to search for all occurence that match a given \n",
    "pattern. In contrast, re.search() will only return the first occurence that \n",
    "matches the specified pattern. re.findall() will iterate over all the lines of\n",
    "the file and will return all non-overlapping matches of pattern in a single \n",
    "step."
   ]
  },
  {
   "cell_type": "code",
   "execution_count": null,
   "id": "9cb1af2c",
   "metadata": {},
   "outputs": [],
   "source": [
    "Q10. Does a scanner object have to be named scanner?\n",
    "Ans. Yes, It may have any name."
   ]
  }
 ],
 "metadata": {
  "kernelspec": {
   "display_name": "Python 3 (ipykernel)",
   "language": "python",
   "name": "python3"
  },
  "language_info": {
   "codemirror_mode": {
    "name": "ipython",
    "version": 3
   },
   "file_extension": ".py",
   "mimetype": "text/x-python",
   "name": "python",
   "nbconvert_exporter": "python",
   "pygments_lexer": "ipython3",
   "version": "3.9.7"
  }
 },
 "nbformat": 4,
 "nbformat_minor": 5
}
