{
 "cells": [
  {
   "cell_type": "code",
   "execution_count": null,
   "id": "336a0c83",
   "metadata": {},
   "outputs": [],
   "source": [
    "Q1. If you have any, what are your choices for increasing the comparison \n",
    "between different figures on the same graph?\n",
    "Ans. Matplotlib provides a convenient method called subplots for increasing the\n",
    "comparison between different figures on the same graph. Subplots mean a group of\n",
    "smaller axes(where each axis is a plot) that can exist together within a single\n",
    "figure."
   ]
  },
  {
   "cell_type": "code",
   "execution_count": null,
   "id": "53f95cae",
   "metadata": {},
   "outputs": [],
   "source": [
    "Q2. Can you explain the benefit of compound interest over a higher rate of \n",
    "interest that does not compound after reading this chapter?\n",
    "Ans. Compound interest makes a sum of money grow at a faster rate than simple\n",
    "interest, because in addition to earning returns on the money you invest, you \n",
    "also earn colmpounding period, which could be daily, monthly, quarterly or \n",
    "annually."
   ]
  },
  {
   "cell_type": "code",
   "execution_count": null,
   "id": "e152ebd9",
   "metadata": {},
   "outputs": [],
   "source": [
    "Q3. What is a histogram, exactly? Name a numpy method for creating such a graph?\n",
    "Ans. A histogram is a display of statistical information that uses rectangles to \n",
    "show the frequency of data items in successive numerical intervals of equal size. \n",
    "In the most common form of histogram, the independent variable is plotted along the\n",
    "horizontal axis and the dependent variable is plotted along the vertical axis.\n",
    "numpy.histogram() is the built in function used."
   ]
  },
  {
   "cell_type": "code",
   "execution_count": null,
   "id": "bb913f02",
   "metadata": {},
   "outputs": [],
   "source": [
    "Q4. If necessary, how do you change the aspect ratios between the X and Y axes ?\n",
    "Ans: We can use figure(figsize=(10,8)) function inside the matplot.pyplot \n",
    "library which we scale down or up the graph."
   ]
  },
  {
   "cell_type": "code",
   "execution_count": null,
   "id": "6f942108",
   "metadata": {},
   "outputs": [],
   "source": [
    "Q5. Compare and contrast the three types of array multiplication between two \n",
    "numpy arrays: dot product, outer product, and regular multiplication of two\n",
    "numpy arrays ?\n",
    "Ans: : In regular multiplication values of same index get multiplied.\n",
    "\n",
    "In dot product there is row wise multiplication, row of one array with column\n",
    "of second array and so on.\n",
    "In outer multiplication every element of first array a1 will be multiply by \n",
    "every element of other array a2 such such the number of columns will be equal\n",
    "to the number of element in another array a2."
   ]
  },
  {
   "cell_type": "code",
   "execution_count": null,
   "id": "46281c1d",
   "metadata": {},
   "outputs": [],
   "source": [
    "Q6. Before you buy a home, which numpy function will you use to measure your \n",
    "monthly mortgage payment ?\n",
    "Ans. np.pmt(rate,nper,pv) function we will be using in order to calculate monthly\n",
    "mortgage payment before you purchase a house.\n",
    "rate= The periodic interest rate\n",
    "nper=The number of payment periods\n",
    "pv=The total value of the mortgage loan"
   ]
  },
  {
   "cell_type": "code",
   "execution_count": null,
   "id": "43bc2870",
   "metadata": {},
   "outputs": [],
   "source": [
    "Q7. Can string data be stored in numpy arrays? If so, list at least one restriction\n",
    "that applies to this data ?\n",
    "Ans Yes an array can store the string. The limitation which imposed on the string \n",
    "data is, whenever we store the data of string dtype then it should keep in mind \n",
    "that the string which is havind the maximum length is the limit."
   ]
  }
 ],
 "metadata": {
  "kernelspec": {
   "display_name": "Python 3 (ipykernel)",
   "language": "python",
   "name": "python3"
  },
  "language_info": {
   "codemirror_mode": {
    "name": "ipython",
    "version": 3
   },
   "file_extension": ".py",
   "mimetype": "text/x-python",
   "name": "python",
   "nbconvert_exporter": "python",
   "pygments_lexer": "ipython3",
   "version": "3.9.7"
  }
 },
 "nbformat": 4,
 "nbformat_minor": 5
}
