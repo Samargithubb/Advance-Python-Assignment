{
 "cells": [
  {
   "cell_type": "code",
   "execution_count": null,
   "id": "b241dcce",
   "metadata": {},
   "outputs": [],
   "source": [
    "Q1. What is the concept of a metaclass?\n",
    "Ans. Metaclass in Python is a class of a class that defines how a class behaves.\n",
    "A class is itself a instance of Metaclass, and any Instance of Class in Python is \n",
    "an Instance of type metaclass. E.g. Type of int,str,float,list,tuple and many more \n",
    "of metaclass type."
   ]
  },
  {
   "cell_type": "code",
   "execution_count": null,
   "id": "72fd82b2",
   "metadata": {},
   "outputs": [],
   "source": [
    "Q2. What is the best way to declare a class's metaclass?\n",
    "Ans. A way to declare a class metaclass is by using metaclass keyword in class\n",
    "defination.\n"
   ]
  },
  {
   "cell_type": "code",
   "execution_count": 1,
   "id": "bafe5cf1",
   "metadata": {},
   "outputs": [
    {
     "name": "stdout",
     "output_type": "stream",
     "text": [
      "<class 'type'>\n",
      "<class '__main__.meta'>\n"
     ]
    }
   ],
   "source": [
    "class meta(type):\n",
    "    pass\n",
    "class class_meta(metaclass=meta):\n",
    "    pass\n",
    "print(type(meta))\n",
    "print(type(class_meta))"
   ]
  },
  {
   "cell_type": "code",
   "execution_count": null,
   "id": "13fe9dd3",
   "metadata": {},
   "outputs": [],
   "source": [
    "Q3. How do class decorators overlap with metaclasses for handling classes ?\n",
    "Ans: Anything you can do with a class decorator, you can of course do with a \n",
    "custom metaclasses (just apply the functionality of the \"decorator function\",\n",
    "i.e., the one that takes a class object and modifies it, in the course of the \n",
    "metaclass's __new__ or __init__ that make the class object!)."
   ]
  },
  {
   "cell_type": "code",
   "execution_count": null,
   "id": "c78e257e",
   "metadata": {},
   "outputs": [],
   "source": [
    "Q4. How do class decorators overlap with metaclasses for handling instances?\n",
    "Ans: Anything you can do with a class decorator, you can of course do with a\n",
    "custom metaclass (just apply the functionality of the \"decorator function\", \n",
    "i.e., the one that takes a class object and modifies it, in the course of the\n",
    "metaclass's __new__ or __init__ that make the class object!)."
   ]
  }
 ],
 "metadata": {
  "kernelspec": {
   "display_name": "Python 3 (ipykernel)",
   "language": "python",
   "name": "python3"
  },
  "language_info": {
   "codemirror_mode": {
    "name": "ipython",
    "version": 3
   },
   "file_extension": ".py",
   "mimetype": "text/x-python",
   "name": "python",
   "nbconvert_exporter": "python",
   "pygments_lexer": "ipython3",
   "version": "3.9.7"
  }
 },
 "nbformat": 4,
 "nbformat_minor": 5
}
