{
 "cells": [
  {
   "cell_type": "code",
   "execution_count": null,
   "id": "7fa48eef",
   "metadata": {},
   "outputs": [],
   "source": [
    "Q1. What is the relationship between classes and modules?\n",
    "Ans: A Python class is like an outline/blueprint/mold for creating a new object.\n",
    "An object is anything that you wish to manipulate or change while working through\n",
    "the code. Every time a class object is instantiated, which is when we declare a \n",
    "variable, a new object is initiated from scratch\n",
    "\n",
    "Whereas in Python, Modules are simply files with the . py extension containing\n",
    "Python code that can be imported inside another Python Program. In simple terms,\n",
    "we can consider a module to be the same as a code library or a file that contains\n",
    "a set of functions/Classes that you want to include in your application."
   ]
  },
  {
   "cell_type": "code",
   "execution_count": null,
   "id": "3f07b912",
   "metadata": {},
   "outputs": [],
   "source": [
    "Q2. How do you make instances and classes?\n",
    "Ans. For creating a class instance .we call a class by its name and pass the \n",
    "arguments which its __init__ method accepts.\n",
    "Example: vishwak = employee('Male',20000), Here vishwak is an instance of class\n",
    "employee with attriubutes 'Male' and 20000.\n",
    "Whereas for creating a class, we use the Class keyword. Class keyword is followed\n",
    "by classname and semicolon.\n",
    "\n",
    "Example: Here Employee is a class created with class keyword with arguments\n",
    "gender and salary.\n",
    "\n",
    "class Employee:\n",
    "    def __init__(self,gender,salary):\n",
    "        self.gender=gender\n",
    "        self.salary=salary\n",
    "        "
   ]
  },
  {
   "cell_type": "code",
   "execution_count": null,
   "id": "49e092c1",
   "metadata": {},
   "outputs": [],
   "source": [
    "Q3. Where and how should be class attributes created?\n",
    "Ans. class attribute or class level attributes belong to the class itself. These\n",
    "attributes will be shared by all the instances of the class.Hence these attributes\n",
    "are usually created/defined in the top of class defination outside all methods.\n",
    "Example: In the below code we defined a class attribute called no_of_wheels which\n",
    "will be shared by all the instances of the class Car\n",
    "\n",
    "class car:\n",
    "    no_of_wheels=4:  #this is a class attribute\n",
    "    def __init__(self,color,price,engine):\n",
    "        self.color= color # All this are instance attribures\n",
    "        self.price=price\n",
    "        self.engine=engine\n"
   ]
  },
  {
   "cell_type": "code",
   "execution_count": null,
   "id": "c4321dcf",
   "metadata": {},
   "outputs": [],
   "source": [
    "Q4. Where and how are instance attributes created?\n",
    "Ans. Instances attributes are passed to the class when an object of the class \n",
    "is created. Unlike class attributes, instance attributes are not shared by all \n",
    "objects of the classs. instead each object maintains its own copy of instance\n",
    "attributes at object level. whereas incase of class attributes all instances \n",
    "of class refer to a single copy. Usually instance attributes are defined within\n",
    "the __init__ method of class\n",
    "Example: In the below sample code we are creating a class Car with instance\n",
    "varaibles color, price, engine, which will be provided when an instance of\n",
    "class Car is created.\n",
    "class Car:\n",
    "    def __init__(self,color,price,engine):\n",
    "        self.color = color # All this are instance attributes\n",
    "        self.price = price\n",
    "        self.engine = engine\n",
    "\n",
    "nexon_ev = Car('Indigo Blue', 1400000, 'electric')\n",
    "safari = Car('Pearl White',2100000, 'petrol')\n",
    "nexon_ev, safari are both the instances of class Car with different instance \n",
    "variables."
   ]
  },
  {
   "cell_type": "code",
   "execution_count": null,
   "id": "79e2b654",
   "metadata": {},
   "outputs": [],
   "source": [
    "Q5. What does the term \"self\" in a Python class mean?\n",
    "Ans: self represents the instance of the class (it represents the object \n",
    "itself). By using the “self” keyword we can access the attributes and methods\n",
    "of the class with in the class in python. It binds the attributes with the\n",
    "given arguments."
   ]
  },
  {
   "cell_type": "code",
   "execution_count": 3,
   "id": "a1a3e2ac",
   "metadata": {},
   "outputs": [
    {
     "name": "stdout",
     "output_type": "stream",
     "text": [
      "The total number of pages in 2 books is 300\n"
     ]
    }
   ],
   "source": [
    "Q6. How does a Python class handle operator overloading?\n",
    "Ans. Python Classes handle operator overloading by using special methods called\n",
    "Magic methods. these special methods usually begin and end with __ (double\n",
    "underscore)\n",
    "Example: Magic methods for basic arithmetic operators are:\n",
    "\n",
    "+ -> __add__()\n",
    "- -> __sub__()\n",
    "* -> __mul__()\n",
    "/ -> __div__()\n",
    "\n",
    "class Book:\n",
    "    def __init__(self,pages):\n",
    "        self.pages = pages\n",
    "    def __add__(self,other):\n",
    "        return self.pages + other.pages\n",
    "b1 = Book(100)\n",
    "b2 = Book(200)\n",
    "print(f'The total number of pages in 2 books is {b1+b2}')"
   ]
  },
  {
   "cell_type": "code",
   "execution_count": null,
   "id": "88d2f0a5",
   "metadata": {},
   "outputs": [],
   "source": [
    "Q7. When do you consider allowing operator overloading of your classes?\n",
    "Ans: When we want to have different meaning for the same operator accroding\n",
    "to the context we use operator overloading."
   ]
  },
  {
   "cell_type": "code",
   "execution_count": 7,
   "id": "026cf637",
   "metadata": {},
   "outputs": [
    {
     "name": "stdout",
     "output_type": "stream",
     "text": [
      "Sum -> 14\n",
      "String Concatenation -> Samar Singh\n"
     ]
    }
   ],
   "source": [
    "Q8. What is the most popular form of operator overloading?\n",
    "Ans: The most popular form of operator overloading in python is by special\n",
    "methods called Magic methods. Which usually begin and end with double\n",
    "underscore __<method name>__.\n",
    "\n",
    "\n",
    "\n",
    "class A:\n",
    "    def __init__(self,a):\n",
    "        self.a = a\n",
    "    def __add__(self,o):\n",
    "        return self.a+o.a\n",
    "obj1 = A(12)\n",
    "obj2 = A(2)\n",
    "obj3 = A('Samar')\n",
    "obj4 = A(' Singh')\n",
    "print(f'Sum -> {obj1+obj2}')\n",
    "print(f'String Concatenation -> {obj3+obj4}')"
   ]
  },
  {
   "cell_type": "code",
   "execution_count": null,
   "id": "058625e9",
   "metadata": {},
   "outputs": [],
   "source": [
    "Q9. What are the two most important concepts to grasp in order to comprehend Python \n",
    "OOP code?\n",
    "Ans: Classes and objects are the two concepts to comprehend python OOP code as more\n",
    "formally objects are entities that represent instances of general abstract concept\n",
    "called class\n",
    "\n",
    "Along with classes and objects the important concepts to grasp are:\n",
    "\n",
    "Inheritence\n",
    "Abstraction\n",
    "Polymorphism\n",
    "Encapsulation"
   ]
  }
 ],
 "metadata": {
  "kernelspec": {
   "display_name": "Python 3 (ipykernel)",
   "language": "python",
   "name": "python3"
  },
  "language_info": {
   "codemirror_mode": {
    "name": "ipython",
    "version": 3
   },
   "file_extension": ".py",
   "mimetype": "text/x-python",
   "name": "python",
   "nbconvert_exporter": "python",
   "pygments_lexer": "ipython3",
   "version": "3.9.7"
  }
 },
 "nbformat": 4,
 "nbformat_minor": 5
}
