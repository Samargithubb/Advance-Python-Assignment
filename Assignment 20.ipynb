{
 "cells": [
  {
   "cell_type": "code",
   "execution_count": null,
   "id": "c044595b",
   "metadata": {},
   "outputs": [],
   "source": [
    "1. Compare and contrast the float and Decimal classes' benefits and drawbacks ?\n",
    "Ans. Both the float and decimal types store numerical values in Python.\n",
    "\n",
    "Use floats when convenience and speed matter. A float  gives you and approximation\n",
    "of the number you declare.\n",
    "\n",
    "Use decimals when precision matters. Decimals can suffer from their own precision \n",
    "issues, but generally decimals are more precise than floats. The performance \n",
    "difference between float and decimal, with python 3, is not outlandish and in my\n",
    "experince ,the precision benefits of a decimal outweigh the performance benefits\n",
    "of a float."
   ]
  },
  {
   "cell_type": "code",
   "execution_count": null,
   "id": "f6a78989",
   "metadata": {},
   "outputs": [],
   "source": [
    "2. Decimal('1.200') and Decimal('1.2') are two objects to consider. In what \n",
    "sense are these the same object? Are these just two ways of representing the \n",
    "exact same value, or do they correspond to different internal states ?\n",
    "\n",
    "Ans. Both values are same but internal representation at storage is different. \n",
    "Precision differs, Decimal('1.200') gives internally 1.200 and Decimal('1.2') \n",
    "gives 1.2"
   ]
  },
  {
   "cell_type": "code",
   "execution_count": null,
   "id": "6634b771",
   "metadata": {},
   "outputs": [],
   "source": [
    "3. What happens if the equality of Decimal('1.200') and Decimal('1.2') is\n",
    "checked ?\n",
    "Ans. Both values are checked to be equal, they only differ in precision."
   ]
  },
  {
   "cell_type": "code",
   "execution_count": null,
   "id": "65992671",
   "metadata": {},
   "outputs": [],
   "source": [
    "4. Why is it preferable to start a Decimal object with a string rather than a \n",
    "floating-point value ?\n",
    "Ans. Floating-point value is converted to Decimal format. Decimal can store float\n",
    "value with absolute precision, But when flaot value is given as Decimal object, it\n",
    "first has to be converted from floating point value which might already have \n",
    "rounding error.\n",
    "Hence it si preferable to start a Decimal object with a string."
   ]
  },
  {
   "cell_type": "code",
   "execution_count": null,
   "id": "19871f85",
   "metadata": {},
   "outputs": [],
   "source": [
    "5. In an arithmetic phrase, how simple is it to combine Decimal objects with \n",
    "integers ?\n",
    "Ans. We can do it with use of Decimal()."
   ]
  },
  {
   "cell_type": "code",
   "execution_count": null,
   "id": "1d121b0b",
   "metadata": {},
   "outputs": [],
   "source": [
    "6. Can Decimal objects and floating-point values be combined easily ?\n",
    "Ans. Arithmetic operations like adding, subtracting or multiplying a decimal \n",
    "object by a floating-point value is generator an error.\n",
    "To do these operations, the floating point has to be converted to a Decimal."
   ]
  },
  {
   "cell_type": "code",
   "execution_count": null,
   "id": "a9fd710c",
   "metadata": {},
   "outputs": [],
   "source": [
    "7. Using the Fraction class but not the Decimal class, give an example of a\n",
    "quantity that can be expressed with absolute precision ?\n",
    "Ans. Value of 0.5 will be represented as ½ "
   ]
  },
  {
   "cell_type": "code",
   "execution_count": null,
   "id": "e2ea29fc",
   "metadata": {},
   "outputs": [],
   "source": [
    "8.Consider the following two fraction objects: Fraction(1, 2) and Fraction(1, 2)\n",
    ". (5, 10). Is the internal state of these two objects the same? Why do you \n",
    "think that is ?\n",
    "Ans. Both will be reduced to 1/2"
   ]
  },
  {
   "cell_type": "code",
   "execution_count": null,
   "id": "ad2ddf72",
   "metadata": {},
   "outputs": [],
   "source": [
    "9. How do the Fraction class and the integer type (int) relate to each other?\n",
    "Containment or inheritance ?\n",
    "Ans. Fraction class and integer type(int) are related in form of a container. It\n",
    "contains two ints, one the numerator and the other the denominator."
   ]
  }
 ],
 "metadata": {
  "kernelspec": {
   "display_name": "Python 3 (ipykernel)",
   "language": "python",
   "name": "python3"
  },
  "language_info": {
   "codemirror_mode": {
    "name": "ipython",
    "version": 3
   },
   "file_extension": ".py",
   "mimetype": "text/x-python",
   "name": "python",
   "nbconvert_exporter": "python",
   "pygments_lexer": "ipython3",
   "version": "3.9.7"
  }
 },
 "nbformat": 4,
 "nbformat_minor": 5
}
