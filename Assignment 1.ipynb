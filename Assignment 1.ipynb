{
 "cells": [
  {
   "cell_type": "code",
   "execution_count": null,
   "id": "ddb1c3d7",
   "metadata": {},
   "outputs": [],
   "source": [
    "Q1. What is the purpose of Python's OOP?\n",
    "Ans. In Python, object-oriented Programming (OOPs) is a programming paradigm that\n",
    "uses objects and classes in programming paradigm that uses objects and classes in \n",
    "programming.It aims to implement real-world entities like inheritance,polymorphisms\n",
    ",encapsulation, etc. in the programming. The main concept of OOPs is to bind the \n",
    "data and the functions that work on that together as a single unit so that no other\n",
    "part of the code can access this data.\n",
    "Main Concepts of Object-Oriented Programming(OOPs)\n",
    "*Class\n",
    "*Objects\n",
    "*Polymorphism\n",
    "*Encapsulation\n",
    "*Inheritance"
   ]
  },
  {
   "cell_type": "code",
   "execution_count": null,
   "id": "ded15df2",
   "metadata": {},
   "outputs": [],
   "source": [
    "Q2. Where does an inheritance search look for an attribute?\n",
    "Ans.Python search for an attribute in an upward tree of attributes. It first \n",
    "searches for the attribute in its instance and then looks in the class it is \n",
    "generated from, to all super classes listed in its class header."
   ]
  },
  {
   "cell_type": "code",
   "execution_count": null,
   "id": "0ac5d8da",
   "metadata": {},
   "outputs": [],
   "source": [
    "Q3. How do you distinguish between a class object and an instance object?\n",
    "Ans.* class object is like a blueprint for instance object but instance object\n",
    "is a concrete item in out code.\n",
    "*instance objects are new namespaces, that start out empty but inherit object \n",
    "attributes that live in class object.\n",
    "*The first argument of class function(self) reference the instance object and \n",
    "assignments to attributes of self change data in the instance.\n",
    "Example:\n",
    "class MYClass:\n",
    "    pass\n",
    "Above code will generate a class object and name it \"MYClass\".From this class \n",
    "object, we will create instance objects.\n",
    "\n",
    "obj1=MYClass()\n",
    "when we call a class,it creates an instance object of that class from which the \n",
    "object has been created.The above statement created an object and names it to\n",
    "\"obj1\" which is an instance of MyClass."
   ]
  },
  {
   "cell_type": "code",
   "execution_count": null,
   "id": "9f7a9c22",
   "metadata": {},
   "outputs": [],
   "source": [
    "Q4. What makes the first argument in a class’s method function special?\n",
    "Ans.Python Classes usually have three types of methods which are:\n",
    "Instance Methods (object level methods)\n",
    "Class Methods (class level methods)\n",
    "Static Methods (general utility methods)\n",
    "self is the first argument for instance methods. which refers to the object itself\n",
    "cls is the first argument for class methods which refers to the class itself"
   ]
  },
  {
   "cell_type": "code",
   "execution_count": null,
   "id": "b4e96d0f",
   "metadata": {},
   "outputs": [],
   "source": [
    "Q5. What is the purpose of the __init__ method?\n",
    "Ans. __init__ is a reserved method in python classes. It serves the role of a \n",
    "constructor in object oriented terminology. This method is called when an object\n",
    "is created from a class and it allows the class to initialize the attributes\n",
    "of the class."
   ]
  },
  {
   "cell_type": "code",
   "execution_count": null,
   "id": "5fa0ab7b",
   "metadata": {},
   "outputs": [],
   "source": [
    "Q6. What is the process for creating a class instance?\n",
    "Ans: To create a class instance, we need to call the class by its name and\n",
    "pass the arguments to the class, which its init method accepts."
   ]
  },
  {
   "cell_type": "code",
   "execution_count": null,
   "id": "3d062853",
   "metadata": {},
   "outputs": [],
   "source": [
    "Q7. What is the process for creating a class?\n",
    "An. class keyword is used to create a class in python. The syntax to create a \n",
    "class in python is class <classname>:\n",
    "Example:\n",
    "    class student:\n",
    "        pass\n",
    "    here class is keyword and classname is student"
   ]
  },
  {
   "cell_type": "code",
   "execution_count": null,
   "id": "365388f4",
   "metadata": {},
   "outputs": [],
   "source": [
    "Q8. How would you define the superclasses of a class?\n",
    "Ans. Superclass/Parent class is given as a arugment to the child class\n",
    "Example: class Employee(Person): Here child class Employee inherits attributes\n",
    "and methofs from Superclass/Parent Person"
   ]
  }
 ],
 "metadata": {
  "kernelspec": {
   "display_name": "Python 3 (ipykernel)",
   "language": "python",
   "name": "python3"
  },
  "language_info": {
   "codemirror_mode": {
    "name": "ipython",
    "version": 3
   },
   "file_extension": ".py",
   "mimetype": "text/x-python",
   "name": "python",
   "nbconvert_exporter": "python",
   "pygments_lexer": "ipython3",
   "version": "3.9.7"
  }
 },
 "nbformat": 4,
 "nbformat_minor": 5
}
