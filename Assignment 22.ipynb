{
 "cells": [
  {
   "cell_type": "code",
   "execution_count": null,
   "id": "b57743cf",
   "metadata": {},
   "outputs": [],
   "source": [
    "Q1. What are the benefits of the built-in array package, if any?\n",
    "Ans. Arrays represent multiple data items of the same type using a single name.\n",
    "In arrays, the elements can be accessed randomly by using the index number. \n",
    "Arrays allocate memory in contiguous memory locations for all its element.\n",
    "Hence there is no chance of extra memory being in case of arrays. \n",
    "This avoids memory overflow or shortage of memory in arrays."
   ]
  },
  {
   "cell_type": "code",
   "execution_count": null,
   "id": "57101900",
   "metadata": {},
   "outputs": [],
   "source": [
    "Q2. What are some of the array package's limitations ?\n",
    "Ans. The number of elements to be stored in an array should be known in advance.\n",
    "An array is a static structure (which means the array is of fixed size). Once \n",
    "declared the size of the array cannot be modified. The  memory which is allocated\n",
    "to it cannot be increased or dereased.\n",
    "Insertion and deletion are quite  difficult in an array as the elements are \n",
    "stored in consecutive memory locations and the shifting operation is costly.\n",
    "Allocations more memory than the requirement leads to wastage of memory space \n",
    "and less allocations of memory also leads to a problem."
   ]
  },
  {
   "cell_type": "code",
   "execution_count": null,
   "id": "b3d8d2a1",
   "metadata": {},
   "outputs": [],
   "source": [
    "Q3. Describe the main differences between the array and numpy packages ?\n",
    "Ans. The array package doesn't provide any help with numerical calculation with\n",
    "the items inside it in number form while Numpy give you a wide variety of\n",
    "numerical operations.\n",
    "An array is a single dimensional entity which hold the numerical data, while \n",
    "numpy can have more than 1 dimension.\n",
    "In case of array, item can be accessed by its index position and it is easy task\n",
    "while in numpy item is accessed by its column and row index, which makes it\n",
    "slightly time taking.Same goes with appending operation.\n",
    "In case of array we do not form a tabular structure, while in numpy it forms a \n",
    "tabular structure"
   ]
  },
  {
   "cell_type": "code",
   "execution_count": null,
   "id": "2c2ec622",
   "metadata": {},
   "outputs": [],
   "source": [
    "Q4. Explain the distinctions between the empty, ones, and zeros functions ?\n",
    "Ans. The distinctions between the empty, ones and zero functions are as follows:\n",
    "Empty functions: An empty function is a function is a function that does not\n",
    "contain any statement within its body. If you try to write a functions definition\n",
    "without any statement in python it will return an error. To avoid this, we use pass\n",
    "statement. pass is a special statement in Python that does nothing it only works \n",
    "as dummy statement.\n",
    "Ones: This function returns a new array of given shape and data type,where the \n",
    "element's value is 1.\n",
    "Zeros: This function returns a new array of given shape and data type, where the \n",
    "element's value is 0."
   ]
  },
  {
   "cell_type": "code",
   "execution_count": null,
   "id": "f4c0bc1b",
   "metadata": {},
   "outputs": [],
   "source": [
    "Q5. In the fromfunction function, which is used to construct new arrays, what \n",
    "is the role of the callable argument ?\n",
    "Ans. Its function is to execute the function over each coordinate and the resulting\n",
    "array. The function is called with N parameters,where N is the rank of shape. \n",
    "Each parameter represents the coordinates of the array varying along a specific\n",
    "axis."
   ]
  },
  {
   "cell_type": "code",
   "execution_count": null,
   "id": "a62e7aca",
   "metadata": {},
   "outputs": [],
   "source": [
    "Q6. What happens when a numpy array is combined with a single-value operand \n",
    "(a scalar, such as an int or a floating-point value) through addition, as in \n",
    "the expression A + n ?\n",
    "Ans. If any scaler value such as integer is added to the numpy array  then all \n",
    "the elements inside the array will add that value in it."
   ]
  },
  {
   "cell_type": "code",
   "execution_count": null,
   "id": "fd288703",
   "metadata": {},
   "outputs": [],
   "source": [
    "Q7. Can array-to-scalar operations use combined operation-assign operators \n",
    "(such as += or *=)? What is the outcome ?\n",
    "Ans It will carry out provided operation on all elements of array."
   ]
  },
  {
   "cell_type": "code",
   "execution_count": null,
   "id": "8380b701",
   "metadata": {},
   "outputs": [],
   "source": [
    "Q8. Does a numpy array contain fixed-length strings? What happens if you \n",
    "allocate a longer string to one of these arrays ?\n",
    "Ans. Yes, it is possible that we can include a string of fixed length in numpy\n",
    "array.The d type of any numpy array containin string valules is the maximum \n",
    "length of any string present in the array. once set, it will only be able to stroe\n",
    "new string having length not more than the maximum length at the time of the \n",
    "creation. if we try to reassign some another string value having length greater\n",
    "than the maximum length of the existing elements, it simply discards all the \n",
    "values beyond the maximum length accept upto those values which are under the \n",
    "limit."
   ]
  },
  {
   "cell_type": "code",
   "execution_count": null,
   "id": "4188f14a",
   "metadata": {},
   "outputs": [],
   "source": [
    "Q9. What happens when you combine two numpy arrays using an operation like \n",
    "addition (+) or multiplication (*)? What are the conditions for combining two\n",
    "numpy arrays ?\n",
    "Ans.It will simply add or multiply element to element at same position."
   ]
  },
  {
   "cell_type": "code",
   "execution_count": null,
   "id": "3f20433d",
   "metadata": {},
   "outputs": [],
   "source": [
    "Q10. What is the best way to use a Boolean array to mask another array ?\n",
    "Ans: The best way to use a Boolean array to mask another array is by Using \n",
    "masked_where of numpy package"
   ]
  },
  {
   "cell_type": "code",
   "execution_count": null,
   "id": "0c61459a",
   "metadata": {},
   "outputs": [],
   "source": [
    "Q11. What are three different ways to get the standard deviation of a wide \n",
    "collection of data using both standard Python and its packages? Sort the three\n",
    "of them by how quickly they execute ?\n",
    "Ans: np.std and math package can be used individually."
   ]
  },
  {
   "cell_type": "code",
   "execution_count": null,
   "id": "88502113",
   "metadata": {},
   "outputs": [],
   "source": [
    "12. What is the dimensionality of a Boolean mask-generated array ?\n",
    "Ans: It will have same dimensionality as input array."
   ]
  }
 ],
 "metadata": {
  "kernelspec": {
   "display_name": "Python 3 (ipykernel)",
   "language": "python",
   "name": "python3"
  },
  "language_info": {
   "codemirror_mode": {
    "name": "ipython",
    "version": 3
   },
   "file_extension": ".py",
   "mimetype": "text/x-python",
   "name": "python",
   "nbconvert_exporter": "python",
   "pygments_lexer": "ipython3",
   "version": "3.9.7"
  }
 },
 "nbformat": 4,
 "nbformat_minor": 5
}
