{
 "cells": [
  {
   "cell_type": "code",
   "execution_count": null,
   "id": "65170c32",
   "metadata": {},
   "outputs": [],
   "source": [
    "Q1. What is the purpose of the try statement?\n",
    "Ans. try statement is used for exception handling in python.It consists of a block\n",
    "of risky statements which might cause an exception during runtime.If code within \n",
    "try block raise exception, then the exception will be reverted to the corresponding\n",
    "except block if multiple except blocks are present, else it will be reverted to the\n",
    "default except block. In short try and except in union avoid programs from crashing\n",
    "during runtime due to exceptions"
   ]
  },
  {
   "cell_type": "code",
   "execution_count": 1,
   "id": "af30a7db",
   "metadata": {},
   "outputs": [
    {
     "name": "stdout",
     "output_type": "stream",
     "text": [
      "Division by Zero is Not Possible\n"
     ]
    }
   ],
   "source": [
    "try:\n",
    "    print(10/0)\n",
    "except ZeroDivisionError:\n",
    "    print('Division by Zero is Not Possible')"
   ]
  },
  {
   "cell_type": "code",
   "execution_count": null,
   "id": "10004eaa",
   "metadata": {},
   "outputs": [],
   "source": [
    "Q2. What are the two most popular try statement variations?\n",
    "Ans. The Popular try statement variations are:\n",
    "1. try,except\n",
    "2. try,except,finally\n",
    "3. try,except,finally, else\n",
    "The try block is used to check code for exceptions during runtime. Code inside \n",
    "try block will execute completely when there is no error in the programe. Whereas\n",
    "the code inside except block will execute whenever the program encounters some \n",
    "error in the preceeding try block.\n",
    "whereas the code enters the else block if and only if the try clause doesn't raise\n",
    "exception .The code in the finally block will execute irrespective of exception.\n"
   ]
  },
  {
   "cell_type": "code",
   "execution_count": null,
   "id": "c1be28af",
   "metadata": {},
   "outputs": [],
   "source": [
    "Q3. What is the purpose of the raise statement?\n",
    "Ans. raise statement is used to trigger an exception explicitly, if a certain \n",
    "condition is not as per requirement of programmer. raise statement helps in \n",
    "triggering exception as per programming logic."
   ]
  },
  {
   "cell_type": "code",
   "execution_count": null,
   "id": "c080d823",
   "metadata": {},
   "outputs": [],
   "source": [
    "Q4. What does the assert statement do, and what other statement is it like?\n",
    "Ans: There are few assertions that programmer always want to be true to avoid\n",
    "code failure. This type of requirement is fulfilled by assert statement. This\n",
    "statement takes a boolean condition output of which is True, Further Program\n",
    "Executes. if output of assert statement is False, it raises an Assertion Error."
   ]
  },
  {
   "cell_type": "code",
   "execution_count": 2,
   "id": "e04e0b73",
   "metadata": {},
   "outputs": [
    {
     "ename": "AssertionError",
     "evalue": "this is not a valid statement",
     "output_type": "error",
     "traceback": [
      "\u001b[1;31m---------------------------------------------------------------------------\u001b[0m",
      "\u001b[1;31mAssertionError\u001b[0m                            Traceback (most recent call last)",
      "\u001b[1;32m~\\AppData\\Local\\Temp/ipykernel_3316/280700256.py\u001b[0m in \u001b[0;36m<module>\u001b[1;34m\u001b[0m\n\u001b[1;32m----> 1\u001b[1;33m \u001b[1;32massert\u001b[0m\u001b[1;33m(\u001b[0m\u001b[1;36m2\u001b[0m \u001b[1;33m==\u001b[0m \u001b[1;36m2.3\u001b[0m\u001b[1;33m)\u001b[0m\u001b[1;33m,\u001b[0m \u001b[1;34mf'this is not a valid statement'\u001b[0m\u001b[1;33m\u001b[0m\u001b[1;33m\u001b[0m\u001b[0m\n\u001b[0m",
      "\u001b[1;31mAssertionError\u001b[0m: this is not a valid statement"
     ]
    }
   ],
   "source": [
    "assert(2 == 2.3), f'this is not a valid statement'"
   ]
  },
  {
   "cell_type": "code",
   "execution_count": null,
   "id": "bd625fad",
   "metadata": {},
   "outputs": [],
   "source": [
    "Q5. What is the purpose of the with/as argument, and what other statement is \n",
    "it like?\n",
    "Ans.ns: with/as statement simplifies use of file handling in python. When we \n",
    "use a with statement for file reading, there is no need for programmer to\n",
    "explicitly takecare of activities like resource deallocation and file\n",
    "closing by using file.close() method. with statement itself ensures proper\n",
    "acquisition and release of resources. this avoids triggering of exceptions\n",
    "if file closing is unknowingly forgotten in the code execution.\n",
    "\n",
    "with open('sample_file.txt','w') as file:\n",
    "    file.write('Hello World')"
   ]
  }
 ],
 "metadata": {
  "kernelspec": {
   "display_name": "Python 3 (ipykernel)",
   "language": "python",
   "name": "python3"
  },
  "language_info": {
   "codemirror_mode": {
    "name": "ipython",
    "version": 3
   },
   "file_extension": ".py",
   "mimetype": "text/x-python",
   "name": "python",
   "nbconvert_exporter": "python",
   "pygments_lexer": "ipython3",
   "version": "3.9.7"
  }
 },
 "nbformat": 4,
 "nbformat_minor": 5
}
