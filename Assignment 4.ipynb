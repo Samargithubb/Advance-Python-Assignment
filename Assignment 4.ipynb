{
 "cells": [
  {
   "cell_type": "code",
   "execution_count": null,
   "id": "d3446c47",
   "metadata": {},
   "outputs": [],
   "source": [
    "Q1. Which two operator overloading methods can you use in your classes to \n",
    "support iteration?\n",
    "Ans. __iter__ and __next__ are the operator overloading methods in python that\n",
    "support iteration and are collectively called iterator protocol.\n",
    "__iter__ returns the iterator object and is called at the start of loop in our\n",
    "respective class.\n",
    "__next__ is called at each loop increment, it returns the incremented value. Also\n",
    "Stopiteration is raise when there is no value to return."
   ]
  },
  {
   "cell_type": "code",
   "execution_count": 4,
   "id": "99fd54a3",
   "metadata": {},
   "outputs": [
    {
     "name": "stdout",
     "output_type": "stream",
     "text": [
      "2 3 4 5 6 "
     ]
    }
   ],
   "source": [
    "class Counter:\n",
    "    def __init__(self,low,high):\n",
    "        self.current=low\n",
    "        self.high=high\n",
    "    def __iter__(self):\n",
    "        return self\n",
    "    def __next__(self):\n",
    "        if self.current >self.high:\n",
    "            raise StopIteration\n",
    "        else:\n",
    "            self.current +=1\n",
    "            return self.current -1\n",
    "for i in Counter(2,6):\n",
    "    print(i,end=' ')"
   ]
  },
  {
   "cell_type": "code",
   "execution_count": null,
   "id": "bc8d26e8",
   "metadata": {},
   "outputs": [],
   "source": [
    "Q2. In what contexts do the two operator overloading methods manage printing?\n",
    "Ans. __str__ and  __repr__ are two operator overloading methods that manage printing\n",
    "\n",
    "In short the difference between both these operators is the goal of __repr__ is\n",
    "to be unambiguous and __str__ is to be readable.\n",
    "Whenever we are printing any object reference internally __str__ method will be \n",
    "called by default.\n",
    "The main purpose of __str__ is for readability. It prints the informal string \n",
    "representation of an object, one that is usefull for printing the object.It may\n",
    "not be possible to convert result string to original string.\n",
    "__repr__ is used to print official string representation of an object,so it \n",
    "includes all information and development."
   ]
  },
  {
   "cell_type": "code",
   "execution_count": 14,
   "id": "dfc7cdfb",
   "metadata": {},
   "outputs": [
    {
     "name": "stdout",
     "output_type": "stream",
     "text": [
      "<__main__.Student object at 0x0000029FCDE40610>\n",
      "Student Name:samar and Roll No: 1\n",
      "2022-06-14 20:43:25.640536\n",
      "Unable to convert back to original object\n",
      "datetime.datetime(2022, 6, 14, 20, 43, 25, 640536)\n",
      "2022-06-14 20:43:25.640536\n"
     ]
    }
   ],
   "source": [
    "class Student:\n",
    "    def __init__(self,name,roll_no):\n",
    "        self.name=name\n",
    "        self.roll_no=roll_no\n",
    "        \n",
    "s1=Student('samar',1)\n",
    "print(str(s1))\n",
    "\n",
    "class Student:\n",
    "    def __init__(self,name,roll_no):\n",
    "        self.name=name\n",
    "        self.roll_no=roll_no\n",
    "    def __str__(self):\n",
    "        return f'Student Name:{self.name} and Roll No: {self.roll_no}'\n",
    "s1=Student('samar',1)\n",
    "print(str(s1))\n",
    "\n",
    "import datetime\n",
    "today=datetime.datetime.now()\n",
    "s=str(today) #converting datetime object to presentable str\n",
    "print(s)\n",
    "try:\n",
    "    d=eval(s) #converting str back to datetime object\n",
    "except:\n",
    "    print('Unable to convert back to original object')\n",
    "\n",
    "u=repr(today) #coverting datetime object to str\n",
    "print(u)\n",
    "e=eval(u) #converting str back to datetime object\n",
    "print(e)"
   ]
  },
  {
   "cell_type": "code",
   "execution_count": null,
   "id": "b712e642",
   "metadata": {},
   "outputs": [],
   "source": [
    "Q3. In a class, how do you intercept slice operations?\n",
    "Ans. In a class use of slice() in __getitem__ method is used for intercept slice \n",
    "operation. This slice method is provided with start integer number, stop integer\n",
    "number and stape integer number.\n",
    "Exp:\n",
    "    __getitem__(slice(start,stop,step))"
   ]
  },
  {
   "cell_type": "code",
   "execution_count": null,
   "id": "ed5e00bd",
   "metadata": {},
   "outputs": [],
   "source": [
    "Q4. In a class, how do you capture in-place addition?\n",
    "Ans. a+b is normal addition. Whereas a+=b is in-place addition operation. In this \n",
    "in-place addition a itself will store the value of addition. In a class __iadd__\n",
    "method is used for this in-place operation"
   ]
  },
  {
   "cell_type": "code",
   "execution_count": 16,
   "id": "d9fcfa77",
   "metadata": {},
   "outputs": [
    {
     "name": "stdout",
     "output_type": "stream",
     "text": [
      "453\n"
     ]
    }
   ],
   "source": [
    "class Book:\n",
    "    def __init__(self,pages):\n",
    "        self.pages=pages\n",
    "    def __iadd__(self,other):\n",
    "        self.pages +=other.pages\n",
    "        return self.pages\n",
    "    \n",
    "b1=Book(100)\n",
    "b2=Book(353)\n",
    "b1+=b2\n",
    "print(b1)"
   ]
  },
  {
   "cell_type": "code",
   "execution_count": null,
   "id": "9ac155e6",
   "metadata": {},
   "outputs": [],
   "source": [
    "Q5. When is it appropriate to use operator overloading?\n",
    "Ans. Operator overloading is used when we want to use an operator other than its\n",
    "normal operation to have different meaning according to the context required in \n",
    "user defined function.\n"
   ]
  },
  {
   "cell_type": "code",
   "execution_count": 17,
   "id": "3c9e9b10",
   "metadata": {},
   "outputs": [
    {
     "name": "stdout",
     "output_type": "stream",
     "text": [
      "Total number of pages= 300\n"
     ]
    }
   ],
   "source": [
    "class Book:\n",
    "    def __init__(self,pages):\n",
    "        self.pages=pages\n",
    "    def __add__(self,other):\n",
    "        return self.pages+other.pages\n",
    "b1=Book(100)\n",
    "b2=Book(200)\n",
    "print(f'Total number of pages= {b1+b2}')"
   ]
  },
  {
   "cell_type": "code",
   "execution_count": null,
   "id": "a23dd8dc",
   "metadata": {},
   "outputs": [],
   "source": []
  }
 ],
 "metadata": {
  "kernelspec": {
   "display_name": "Python 3 (ipykernel)",
   "language": "python",
   "name": "python3"
  },
  "language_info": {
   "codemirror_mode": {
    "name": "ipython",
    "version": 3
   },
   "file_extension": ".py",
   "mimetype": "text/x-python",
   "name": "python",
   "nbconvert_exporter": "python",
   "pygments_lexer": "ipython3",
   "version": "3.9.7"
  }
 },
 "nbformat": 4,
 "nbformat_minor": 5
}
