{
 "cells": [
  {
   "cell_type": "code",
   "execution_count": null,
   "id": "37b018fa",
   "metadata": {},
   "outputs": [],
   "source": [
    "Q1. Define the relationship between a class and its instances. Is it a one-to-one\n",
    "or a one-to-many partnership, for example?\n",
    "Ans. Relationship between a class and its instances is a one to many partnership.\n"
   ]
  },
  {
   "cell_type": "code",
   "execution_count": null,
   "id": "2c69f741",
   "metadata": {},
   "outputs": [],
   "source": [
    "Q2. What kind of data is held only in an instance?\n",
    "Ans. Instance objects contains the instance variables which are specific to \n",
    "that specific instance object."
   ]
  },
  {
   "cell_type": "code",
   "execution_count": null,
   "id": "3fc11ef5",
   "metadata": {},
   "outputs": [],
   "source": [
    "Q3. What kind of knowledge is stored in a class?\n",
    "Ans. Class creates a user-defined data structure, which holds its own data members\n",
    "and member functions, which can be accessed and used by creating an instance of \n",
    "that class. A class is like a blueprint for an object."
   ]
  },
  {
   "cell_type": "code",
   "execution_count": null,
   "id": "9b104e9a",
   "metadata": {},
   "outputs": [],
   "source": [
    "Q4. What exactly is a method, and how is it different from a regular function?\n",
    "Ans.  The methods with a class can be used to access the insatnce variables of\n",
    "its instance. So,the object's state can be modified by its method. Function \n",
    "can't access the attributes of an instance of a class or can't modify the state\n",
    "of the object."
   ]
  },
  {
   "cell_type": "code",
   "execution_count": null,
   "id": "9084934f",
   "metadata": {},
   "outputs": [],
   "source": [
    "Q5. Is inheritance supported in Python, and if so, what is the syntax?\n",
    "Ans. Yes, Python supports inheritance.The Types of Inheritence Supported by \n",
    "Python are:\n",
    "1.Simple Inheritence\n",
    "2.Multiple Inheritence\n",
    "3.Multilevel lInheritence\n",
    "4.Hybrid Inheritence\n",
    "5.Hierracial Inheritence"
   ]
  },
  {
   "cell_type": "code",
   "execution_count": 1,
   "id": "f1a2be91",
   "metadata": {},
   "outputs": [],
   "source": [
    "class Person:\n",
    "    def __init__(self,fname,lname):\n",
    "        self.first_name=fname\n",
    "        self.last_name=lname\n",
    "class Student(Person):\n",
    "    pass"
   ]
  },
  {
   "cell_type": "code",
   "execution_count": null,
   "id": "8ae6a8ab",
   "metadata": {},
   "outputs": [],
   "source": [
    "Q6. How much encapsulation (making instance or class variables private) does\n",
    "Python support?\n",
    "Ans. Encapsulation describe the idea of wrapping data and the methods that work \n",
    "on data within one unit. This puts restrictions on accessing variables and \n",
    "methods directly and can prevent the accidental modification of data. To prevent\n",
    "accidental change, an objects variable can only be changed by an objects method."
   ]
  },
  {
   "cell_type": "code",
   "execution_count": null,
   "id": "429f85ee",
   "metadata": {},
   "outputs": [],
   "source": [
    "Q7. How do you distinguish between a class variable and an instance variable?\n",
    "Ans: The Class Attribute is available to all the instance objects of that class.\n",
    "whereas Instance Attributes are accessible only to the object or Instance \n",
    "of that class.\n",
    "\n",
    "A single copy of Class attributes is maintained by pvm at the class level. \n",
    "Whereas difference copies of instance attributes are maintained by pvm at\n",
    "objects/instance level."
   ]
  },
  {
   "cell_type": "code",
   "execution_count": null,
   "id": "7f44bdf8",
   "metadata": {},
   "outputs": [],
   "source": [
    "Q8. When, if ever, can self be included in a class's method definitions?\n",
    "Ans: Yes, self can included in class method definations to access the instance\n",
    "variables inside class methods."
   ]
  },
  {
   "cell_type": "code",
   "execution_count": null,
   "id": "deeb5f75",
   "metadata": {},
   "outputs": [],
   "source": [
    "Q9. What is the difference between the __add__ and the __radd__ methods ?\n",
    "Ans. Entering __radd__ Python will first try __add__(), and if that returns Not\n",
    "Implemented Python will check if the right-hand operand implements __radd__,\n",
    "and if it does, it will call __radd__() rather than raising a TypeError"
   ]
  },
  {
   "cell_type": "code",
   "execution_count": null,
   "id": "fbcd84d6",
   "metadata": {},
   "outputs": [],
   "source": [
    "Q10. When is it necessary to use a reflection method? When do you not need it,\n",
    "even though you support the operation in question?\n",
    "Ans. Reflection method we often encounter the requirement that a method in the \n",
    "executing object, or a variable in the calling object, or a field of the object\n",
    "should be assigned, while the method name or field name can not be determined \n",
    "when encoding the code, and need to be input in the form of passing strings \n",
    "through parameters."
   ]
  },
  {
   "cell_type": "code",
   "execution_count": null,
   "id": "2ad74083",
   "metadata": {},
   "outputs": [],
   "source": [
    "Q11. What is the __iadd__ method called?\n",
    "Ans. __iadd__ method is called when we use implementation like a+=b which is \n",
    "a.__idd__(b)"
   ]
  },
  {
   "cell_type": "code",
   "execution_count": null,
   "id": "1b2be9cf",
   "metadata": {},
   "outputs": [],
   "source": [
    "Q12. Is the _ _init_ _ method inherited by subclasses? What do you do if you \n",
    "need to customize its behavior within a subclass ?\n",
    "Ans. Yes, __init__ method will be inherited by subclasses. if we want to customize\n",
    "its behaviour whithin a subclass we can use super() method."
   ]
  }
 ],
 "metadata": {
  "kernelspec": {
   "display_name": "Python 3 (ipykernel)",
   "language": "python",
   "name": "python3"
  },
  "language_info": {
   "codemirror_mode": {
    "name": "ipython",
    "version": 3
   },
   "file_extension": ".py",
   "mimetype": "text/x-python",
   "name": "python",
   "nbconvert_exporter": "python",
   "pygments_lexer": "ipython3",
   "version": "3.9.7"
  }
 },
 "nbformat": 4,
 "nbformat_minor": 5
}
