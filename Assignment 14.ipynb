{
 "cells": [
  {
   "cell_type": "code",
   "execution_count": null,
   "id": "7f1f34dc",
   "metadata": {},
   "outputs": [],
   "source": [
    "Q1. Is an assignment operator like += only for show? Is it possible that it\n",
    "would lead to faster results at the runtime ?\n",
    "Ans. A=A+1 evalutes to finding A,adding 1 to it.Then storing the value again in \n",
    "variable A. This expression makes Python to look for memory holder of a twice.\n",
    "But A+=1 simply means value of A is to incremented by 1. As memory address has \n",
    "to be identified once, += leasd  to faster operation."
   ]
  },
  {
   "cell_type": "code",
   "execution_count": null,
   "id": "c2bb2a74",
   "metadata": {},
   "outputs": [],
   "source": [
    "Q2. What is the smallest no of statements you'd have to write in most\n",
    "programming languages to replace the Python expr a, b = a + b, a ?\n",
    "Ans. Minimum number of lines required to write above code in languages other \n",
    "Python will be 4, two for assigning initial values for variables a and b, and \n",
    "two  for reassignment i.e. a=a+b and b=a."
   ]
  },
  {
   "cell_type": "code",
   "execution_count": null,
   "id": "c0023ab5",
   "metadata": {},
   "outputs": [],
   "source": [
    "Q3. In Python, what is the most effective way to set a list of 100 integers to \n",
    "0?\n",
    "Ans. The Most effective way to set a list of 100 integers to 0 in python is by\n",
    "using repition operator(*) or by using list comprehension."
   ]
  },
  {
   "cell_type": "code",
   "execution_count": 1,
   "id": "fbf8802c",
   "metadata": {},
   "outputs": [
    {
     "name": "stdout",
     "output_type": "stream",
     "text": [
      "[0, 0, 0, 0, 0, 0, 0, 0, 0, 0, 0, 0, 0, 0, 0, 0, 0, 0, 0, 0, 0, 0, 0, 0, 0, 0, 0, 0, 0, 0, 0, 0, 0, 0, 0, 0, 0, 0, 0, 0, 0, 0, 0, 0, 0, 0, 0, 0, 0, 0, 0, 0, 0, 0, 0, 0, 0, 0, 0, 0, 0, 0, 0, 0, 0, 0, 0, 0, 0, 0, 0, 0, 0, 0, 0, 0, 0, 0, 0, 0, 0, 0, 0, 0, 0, 0, 0, 0, 0, 0, 0, 0, 0, 0, 0, 0, 0, 0, 0, 0]\n",
      "[0, 0, 0, 0, 0, 0, 0, 0, 0, 0, 0, 0, 0, 0, 0, 0, 0, 0, 0, 0, 0, 0, 0, 0, 0, 0, 0, 0, 0, 0, 0, 0, 0, 0, 0, 0, 0, 0, 0, 0, 0, 0, 0, 0, 0, 0, 0, 0, 0, 0, 0, 0, 0, 0, 0, 0, 0, 0, 0, 0, 0, 0, 0, 0, 0, 0, 0, 0, 0, 0, 0, 0, 0, 0, 0, 0, 0, 0, 0, 0, 0, 0, 0, 0, 0, 0, 0, 0, 0, 0, 0, 0, 0, 0, 0, 0, 0, 0, 0, 0]\n"
     ]
    }
   ],
   "source": [
    "# Method 1\n",
    "list_zero=[0]*100\n",
    "print(list_zero)\n",
    "# Method 2\n",
    "zero_list = [0 for x in range(100)]\n",
    "print(zero_list)"
   ]
  },
  {
   "cell_type": "code",
   "execution_count": null,
   "id": "832a39df",
   "metadata": {},
   "outputs": [],
   "source": [
    "Q4. What is the most effective way to initialise a list of 99 integers that\n",
    "repeats the sequence 1, 2, 3? S If necessary, show step-by-step instructions \n",
    "on how to accomplish this.\n",
    "Ans."
   ]
  },
  {
   "cell_type": "code",
   "execution_count": 2,
   "id": "f0f5be43",
   "metadata": {},
   "outputs": [
    {
     "name": "stdout",
     "output_type": "stream",
     "text": [
      "[1, 2, 3, 1, 2, 3, 1, 2, 3, 1, 2, 3, 1, 2, 3, 1, 2, 3, 1, 2, 3, 1, 2, 3, 1, 2, 3, 1, 2, 3, 1, 2, 3, 1, 2, 3, 1, 2, 3, 1, 2, 3, 1, 2, 3, 1, 2, 3, 1, 2, 3, 1, 2, 3, 1, 2, 3, 1, 2, 3, 1, 2, 3, 1, 2, 3, 1, 2, 3, 1, 2, 3, 1, 2, 3, 1, 2, 3, 1, 2, 3, 1, 2, 3, 1, 2, 3, 1, 2, 3, 1, 2, 3, 1, 2, 3, 1, 2, 3]\n"
     ]
    }
   ],
   "source": [
    "my_list = [1,2,3]*33\n",
    "print(my_list)"
   ]
  },
  {
   "cell_type": "code",
   "execution_count": 7,
   "id": "7cc1ce87",
   "metadata": {},
   "outputs": [
    {
     "name": "stdout",
     "output_type": "stream",
     "text": [
      "1 1 2 2 3 3 4 4 5 5 "
     ]
    }
   ],
   "source": [
    "Q5. If you're using IDLE to run a Python application, explain how to print a \n",
    "multidimensional list as efficiently?\n",
    "Ans.\n",
    "my_list=[[1,1],[2,2],[3,3],[4,4],[5,5]]\n",
    "for x in range(len(my_list)):\n",
    "    for y in range(len(my_list[x])):\n",
    "        print(my_list[x][y],end=' ')"
   ]
  },
  {
   "cell_type": "code",
   "execution_count": null,
   "id": "aa5324b3",
   "metadata": {},
   "outputs": [],
   "source": [
    "Q6. Is it possible to use list comprehension with a string? If so, how can\n",
    "you go about doing it?\n",
    "Ans: List comprehension with string is possible."
   ]
  },
  {
   "cell_type": "code",
   "execution_count": 8,
   "id": "0646c2b4",
   "metadata": {},
   "outputs": [
    {
     "name": "stdout",
     "output_type": "stream",
     "text": [
      "['i', 'N', 'e', 'u', 'r', 'o', 'n']\n"
     ]
    }
   ],
   "source": [
    "my_list=[i for i in 'iNeuron']\n",
    "print(my_list)"
   ]
  },
  {
   "cell_type": "code",
   "execution_count": null,
   "id": "c3a484ff",
   "metadata": {},
   "outputs": [],
   "source": [
    "Q7. From the command line, how do you get support with a user-written Python\n",
    "programme? Is this possible from inside IDLE?\n",
    "Ans: Get support with a user-written Python Programme: Start a command prompt\n",
    "(Windows) or terminal window (Linux/Mac). If the current working directory is \n",
    "the same as the location in which you saved the file, you can simply specify\n",
    "the filename as a command-line argument to the Python interpreter.\n",
    "\n",
    "Get support with a User-written Python Program from IDLE: You can also create \n",
    "script files and run them in IDLE. From the Shell window menu, select File \n",
    "→ New File. That should open an additional editing window. Type in the code\n",
    "to be executed. From the menu in that window, select File → Save or File → Save\n",
    "As… and save the file to disk. Then select Run → Run Module. The output\n",
    "should appear back in the interpreter"
   ]
  },
  {
   "cell_type": "code",
   "execution_count": null,
   "id": "a5b59aef",
   "metadata": {},
   "outputs": [],
   "source": [
    "Q8. Functions are said to be “first-class objects” in Python but not in most \n",
    "other languages, such as C++ or Java. What can you do in Python with a function\n",
    "(callable object) that you can't do in C or C++?\n",
    "Ans: The tasks which can be performed with the functions in python are:\n",
    "\n",
    "A function is an instance of the Object type.\n",
    "You can store the function in a variable.\n",
    "You can pass the function as a parameter to another function.\n",
    "You can return the function from a function.\n",
    "You can store them in data structures such as hash tables, lists,"
   ]
  },
  {
   "cell_type": "code",
   "execution_count": null,
   "id": "478b3d2b",
   "metadata": {},
   "outputs": [],
   "source": [
    "Q9. How do you distinguish between a wrapper, a wrapped feature, and a\n",
    "decorator?\n",
    "Ans: Wrappers Around the functions are known as Decorators."
   ]
  },
  {
   "cell_type": "code",
   "execution_count": null,
   "id": "492d9c33",
   "metadata": {},
   "outputs": [],
   "source": [
    "Q10. If a function is a generator function, what does it return?\n",
    "Ans: Generator functions are a special kind of function that return a lazy\n",
    "iterator. These are objects that you can loop over like a list. However, \n",
    "unlike lists, lazy iterators do not store their contents in memory."
   ]
  },
  {
   "cell_type": "code",
   "execution_count": null,
   "id": "79f982fb",
   "metadata": {},
   "outputs": [],
   "source": [
    "Q11. What is the one improvement that must be made to a function in order for \n",
    "it to become a generator function in the Python language?\n",
    "Ans.Generator is a written as normal function but uses yield keyword to return\n",
    "values instead of return keyword."
   ]
  },
  {
   "cell_type": "code",
   "execution_count": null,
   "id": "e9ac065f",
   "metadata": {},
   "outputs": [],
   "source": [
    "Q12. Identify at least one benefit of generators.\n",
    "Ans: return statement sends a specified value back to its caller whereas yield\n",
    "statment can produce a sequence of values. We should use generator when we \n",
    "want to iterate over a sequence, but don’t want to store the entire sequence\n",
    "in memory."
   ]
  }
 ],
 "metadata": {
  "kernelspec": {
   "display_name": "Python 3 (ipykernel)",
   "language": "python",
   "name": "python3"
  },
  "language_info": {
   "codemirror_mode": {
    "name": "ipython",
    "version": 3
   },
   "file_extension": ".py",
   "mimetype": "text/x-python",
   "name": "python",
   "nbconvert_exporter": "python",
   "pygments_lexer": "ipython3",
   "version": "3.9.7"
  }
 },
 "nbformat": 4,
 "nbformat_minor": 5
}
