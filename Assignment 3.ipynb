{
 "cells": [
  {
   "cell_type": "code",
   "execution_count": 3,
   "id": "d1f1cb66",
   "metadata": {},
   "outputs": [],
   "source": [
    "1. What is the concept of an abstract superclass?\n",
    "Ans. An abstract class/superclass can be considered as a blueprint for other\n",
    "classes. It allows you to create a set of methods that must be created within any\n",
    "child classes built from the abstract class. A class which contains one or more\n",
    "abstract methods is called an abstract class.\n",
    "whereas an abstract method is a method that has a declaration but does not have \n",
    "an implementation\n",
    "Example:\n",
    "from abc import ABC, abstractmethod\n",
    "class Polygon(ABC): #Abstract Class\n",
    "    def noofsides(self):\n",
    "        pass\n",
    "class Triangle(Polygon): \n",
    "    def no_of_sides(self): # overriding abstract method in child class Triangle\n",
    "        print(\"I have 3 sides\")\n",
    "    \n",
    "class Pentagon(Polygon):\n",
    "    def no_of_sides(self): # overriding abstract method in child class Pentagon\n",
    "        print(\"i have 5 sides\")"
   ]
  },
  {
   "cell_type": "code",
   "execution_count": 4,
   "id": "cd068900",
   "metadata": {},
   "outputs": [],
   "source": [
    "2. What happens when a class statement's top level contains a basic assignment statement?\n",
    "Ans. when a class statement's top level contains a basic assignment statement, its\n",
    "usually treated as a class attribute or class level variable.\n",
    "where a assignment statement inside methods are treated as instance attributes or \n",
    "local attributes.\n",
    "when an instance of a class is created a single copy of class attributes is maintaned \n",
    "and shared to all instance of class. Where as each instance object maintains its \n",
    "own copy of instance varibles.\n",
    "Example:\n",
    "class Person:\n",
    "    species=\"Homesapiens\" #class attribute\n",
    "    def __init__(self,name,gender):\n",
    "        self.name=name #instance attributes\n",
    "        self.gender=gender"
   ]
  },
  {
   "cell_type": "code",
   "execution_count": 5,
   "id": "71585aac",
   "metadata": {},
   "outputs": [
    {
     "name": "stdout",
     "output_type": "stream",
     "text": [
      "{'name': 'Vivek', 'age': 26, 'salary': 24242}\n"
     ]
    }
   ],
   "source": [
    "3. Why does a class need to manually call a superclass's __init__ method?\n",
    "Ans. If a child class has __init__ method. then it will not inherit the __init__\n",
    "method of the parent class in order words the __init_ method of th child class \n",
    "overrides the __init__ method of the parent class. so we have to manually call a\n",
    "parent superclass's __init__ using super() method\n",
    "Example:\n",
    "class Person:\n",
    "    def __init__(self,name, age):\n",
    "        self.name=name\n",
    "        self.age=age\n",
    "class Employee(Person):\n",
    "    def __init__(self,name,age,salary):\n",
    "        super().__init__(name,age)\n",
    "        self.salary=salary\n",
    "    \n",
    "emp_1=Employee('Vivek',26,24242)\n",
    "print(emp_1.__dict__)"
   ]
  },
  {
   "cell_type": "code",
   "execution_count": null,
   "id": "7a047186",
   "metadata": {},
   "outputs": [],
   "source": [
    "4. How can you augment, instead of completely replacing, an inherited method?\n",
    "Ans. super() method can be used to augment,instead of completely replacing an\n",
    "inherited method."
   ]
  },
  {
   "cell_type": "code",
   "execution_count": null,
   "id": "1c841d65",
   "metadata": {},
   "outputs": [],
   "source": [
    "5. How is the local scope of a class different from that of a function?\n",
    "Ans.A variable which is defined inside a function is local to that function. It is\n",
    "accesible from the point at which it is defined until the end of the function,\n",
    "and exists for as long as the function is existing.\n",
    "Similary a variable inside of a class also has a local variable scope. Variables\n",
    "which are defined in the class body (but outside all methods) are called as class \n",
    "level variables or class attributes. they can be referenced by there bare names within \n",
    "the same scope, but they can also be accessed from outside this scope if we use the \n",
    "attribute access operator (.). on a class or an instance of the class."
   ]
  },
  {
   "cell_type": "code",
   "execution_count": 13,
   "id": "da2bf59a",
   "metadata": {},
   "outputs": [
    {
     "name": "stdout",
     "output_type": "stream",
     "text": [
      "you're name is samar\n",
      "Name varible is not available outside hello function scope\n",
      "HomeSapines\n",
      "HomeSapines\n"
     ]
    }
   ],
   "source": [
    "def hello(name):\n",
    "    name = name\n",
    "    print(f'you\\'re name is {name}')\n",
    "hello('samar')\n",
    "try:\n",
    "    name\n",
    "except NameError:\n",
    "    print('Name varible is not available outside hello function scope')\n",
    "\n",
    "class Person:\n",
    "    species = \"HomeSapines\"\n",
    "    def __init__(self):\n",
    "        pass\n",
    "print(Person.species) # Accessing species using class name\n",
    "Male = Person()\n",
    "print(Male.species) # Accessing species using instance of class"
   ]
  },
  {
   "cell_type": "code",
   "execution_count": null,
   "id": "9e215d3c",
   "metadata": {},
   "outputs": [],
   "source": []
  }
 ],
 "metadata": {
  "kernelspec": {
   "display_name": "Python 3 (ipykernel)",
   "language": "python",
   "name": "python3"
  },
  "language_info": {
   "codemirror_mode": {
    "name": "ipython",
    "version": 3
   },
   "file_extension": ".py",
   "mimetype": "text/x-python",
   "name": "python",
   "nbconvert_exporter": "python",
   "pygments_lexer": "ipython3",
   "version": "3.9.7"
  }
 },
 "nbformat": 4,
 "nbformat_minor": 5
}
