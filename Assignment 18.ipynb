{
 "cells": [
  {
   "cell_type": "code",
   "execution_count": null,
   "id": "fd2a9efe",
   "metadata": {},
   "outputs": [],
   "source": [
    "Q1. Describe the differences between text and binary files in a single paragraph.\n",
    "Ans. The difference between Text files and binary files are:\n",
    "Text files are special subset of binary files that are used to store human \n",
    "readable characters as a rich text document or plain text document. Text files\n",
    "also store data in sequentila bytes but bits in text file represents characters.\n",
    "\n",
    "Binary files are those typical files that store data in the form of sequence of\n",
    "bytes grouped into eight bits or sometimes sixteen bits. These bits represent \n",
    "custom data and such files can store multiple types of data (images, audio, text,\n",
    "etc) under a single file.\n"
   ]
  },
  {
   "cell_type": "code",
   "execution_count": null,
   "id": "2c11efd5",
   "metadata": {},
   "outputs": [],
   "source": [
    "Q2. What are some scenarios where using text files will be the better option?\n",
    "When would you like to use binary files instead of text files?\n",
    "Ans. Text files are less prone to get corrupted as any undesird change may just\n",
    "show up once the file is opened and then can easily be removed. Whereas use\n",
    "binary files instead of text files for image data."
   ]
  },
  {
   "cell_type": "code",
   "execution_count": null,
   "id": "da0eb0bc",
   "metadata": {},
   "outputs": [],
   "source": [
    "Q3. What are some of the issues with using binary operations to read and write\n",
    "a Python integer directly to disc?\n",
    "Ans. When we read  or write a python integer using binary operations\n",
    "1. Binary operations deal with raw data\n",
    "2. One needs to identify how many bytes one would read or write."
   ]
  },
  {
   "cell_type": "code",
   "execution_count": null,
   "id": "c86b9804",
   "metadata": {},
   "outputs": [],
   "source": [
    "Q4. Describe a benefit of using the with keyword instead of explicitly opening \n",
    "a file ?\n",
    "Ans. When a file is opened using the with keyword, if some exceptions occur \n",
    "after opening a file, or at the end of the file it automatically does the \n",
    "closing of the file. There by no leaving an file in open mode and there would \n",
    "no need to explicitly close a file."
   ]
  },
  {
   "cell_type": "code",
   "execution_count": null,
   "id": "e452847d",
   "metadata": {},
   "outputs": [],
   "source": [
    "Q5. Does Python have the trailing newline while reading a line of text? Does \n",
    "Python append a newline when you write a line of text?\n",
    "Ans. Yes Python have the trailing newline while reading a line of text . When we\n",
    "write a newline has to be provided in python explicitly."
   ]
  },
  {
   "cell_type": "code",
   "execution_count": null,
   "id": "1d527ae4",
   "metadata": {},
   "outputs": [],
   "source": [
    "Q6. What file operations enable for random-access operation?\n",
    "Ans. The file operations enable for random access operation are seek() and \n",
    "tell()"
   ]
  },
  {
   "cell_type": "code",
   "execution_count": null,
   "id": "6492ae26",
   "metadata": {},
   "outputs": [],
   "source": [
    "Q7. When do you think you'll use the struct package the most?\n",
    "Ans: The struct package is mostly used while converting a common python types \n",
    "into C language types."
   ]
  },
  {
   "cell_type": "code",
   "execution_count": null,
   "id": "2371895c",
   "metadata": {},
   "outputs": [],
   "source": [
    "Q8. When is pickling the best option?\n",
    "Ans. Pickling is best option for creating a new binary file using python."
   ]
  },
  {
   "cell_type": "code",
   "execution_count": null,
   "id": "56d195df",
   "metadata": {},
   "outputs": [],
   "source": [
    "Q9. When will it be best to use the shelve package?\n",
    "Ans:Shelve package is used to pickle data but treats the entire file as \n",
    "dictionary."
   ]
  },
  {
   "cell_type": "code",
   "execution_count": null,
   "id": "829afaef",
   "metadata": {},
   "outputs": [],
   "source": [
    "Q10. What is a special restriction when using the shelve package, as opposed \n",
    "to using other data dictionaries?\n",
    "Ans: Only string data type can be used as key in this special dictionary object,\n",
    "whereas any picklable Python object can be used as value."
   ]
  }
 ],
 "metadata": {
  "kernelspec": {
   "display_name": "Python 3 (ipykernel)",
   "language": "python",
   "name": "python3"
  },
  "language_info": {
   "codemirror_mode": {
    "name": "ipython",
    "version": 3
   },
   "file_extension": ".py",
   "mimetype": "text/x-python",
   "name": "python",
   "nbconvert_exporter": "python",
   "pygments_lexer": "ipython3",
   "version": "3.9.7"
  }
 },
 "nbformat": 4,
 "nbformat_minor": 5
}
