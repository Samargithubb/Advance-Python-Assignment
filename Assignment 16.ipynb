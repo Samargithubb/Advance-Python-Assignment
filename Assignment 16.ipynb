{
 "cells": [
  {
   "cell_type": "code",
   "execution_count": null,
   "id": "47440d8b",
   "metadata": {},
   "outputs": [],
   "source": [
    "Q1. What is the benefit of regular expressions?\n",
    "Ans. Regular Expressions, also known as regex or regexp, are used to match \n",
    "strings of text such as particular characters, words, or patterns of characters.\n",
    "It means that we can match and extract any string pattern from the text with the\n",
    "help of regular expressions. It helps the programmers to write less and cleaner \n",
    "code. it also avoids multiple use of if/else statement."
   ]
  },
  {
   "cell_type": "code",
   "execution_count": null,
   "id": "c604ba96",
   "metadata": {},
   "outputs": [],
   "source": [
    "Q2. Describe the difference between the effects of \"(ab)c+\" and \"a(bc)+\" Which\n",
    "of these, if any, is the unqualified pattern \"abc+\"?\n",
    "Ans. Both (ab)+ and a(bc)+ are valid patterns.The difference between both these\n",
    "patters is in (ab)c+ ab is group whereas in a(bc) bc is a group"
   ]
  },
  {
   "cell_type": "code",
   "execution_count": null,
   "id": "6dcdce09",
   "metadata": {},
   "outputs": [],
   "source": [
    "Q3. How much do you need to use the following sentence while using regular \n",
    "expressions?\n",
    "Ans. import re statement always has to be imported before using regular \n",
    "expressions."
   ]
  },
  {
   "cell_type": "code",
   "execution_count": null,
   "id": "4e7cbd88",
   "metadata": {},
   "outputs": [],
   "source": [
    "Q4. Which characters have special significance in square brackets when \n",
    "expressing a range, and under what circumstances?\n",
    "Ans. The characters .,*,?,^,or () have a special significance when used with \n",
    "square brackets. They need not be explicitly escaped by \\ as in case of pattern\n",
    "texts in a raw string."
   ]
  },
  {
   "cell_type": "code",
   "execution_count": null,
   "id": "7be8df85",
   "metadata": {},
   "outputs": [],
   "source": [
    "Q5. How does compiling a regular-expression object benefit you?\n",
    "Ans. We can Combine a regular expression pattern into pattern objects. Which can\n",
    "be used for pattern matching. It also helps to search a pattern again without\n",
    "rewriting it."
   ]
  },
  {
   "cell_type": "code",
   "execution_count": null,
   "id": "7aedb9ee",
   "metadata": {},
   "outputs": [],
   "source": [
    "Q6. What are some examples of how to use the match object returned by re.match \n",
    "and re.search?\n",
    "Ans. The re.search() and re.match() both are functions or re module in python.\n",
    "These functions are very effiecient and fast for searching in strings. The \n",
    "functions searches for some substring in a string and returns a match object if \n",
    "found, else it returns none.\n",
    "There is a difference between the use of both functions.Both return the first \n",
    "match of a substring found in the string, but re.match() searches only from the \n",
    "beggining of the string and return match object if found. But if a match of \n",
    "substring is found somewhere in the middle of the string, it returns none.\n",
    "\n",
    "While re.search() searches for the whole string even if the string contains \n",
    "multi-lines and tries to find a match of the substring in all the lines of string\n"
   ]
  },
  {
   "cell_type": "code",
   "execution_count": 4,
   "id": "fd128380",
   "metadata": {},
   "outputs": [
    {
     "name": "stdout",
     "output_type": "stream",
     "text": [
      "<re.Match object; span=(66, 72), match='string'>\n",
      "None\n",
      "<re.Match object; span=(0, 6), match='string'>\n",
      "<re.Match object; span=(0, 6), match='string'>\n"
     ]
    }
   ],
   "source": [
    "import re\n",
    "Substring='string'\n",
    "String1 ='We are learning regex with geeksforgeeks regex is very useful for string matching. It is fast too.' \n",
    "String2 ='string We are learning regex with geeksforgeeks regex is very useful for string matching. It is fast too.'\n",
    "print(re.search(Substring,String1,re.IGNORECASE))\n",
    "print(re.match(Substring,String1,re.IGNORECASE))\n",
    "print(re.search(Substring,String2,re.IGNORECASE))\n",
    "print(re.match(Substring,String2,re.IGNORECASE))"
   ]
  },
  {
   "cell_type": "code",
   "execution_count": null,
   "id": "130e96d9",
   "metadata": {},
   "outputs": [],
   "source": [
    "Q7. What is the difference between using a vertical bar (|) as an alteration \n",
    "and using square brackets as a character set?\n",
    "Ans. When |  used then patterns searches for or option. i.e \n",
    "<pattern_1>|<pattern_2> means it seaches as <pattern_1> or<<pattern_2>>\n",
    "in the searched string. The first occurance of matched string will be returned as \n",
    "the match object. Using character set in square bracket and if match is found\n",
    "it returns it."
   ]
  },
  {
   "cell_type": "code",
   "execution_count": null,
   "id": "8b503d95",
   "metadata": {},
   "outputs": [],
   "source": [
    "Q8. In regular-expression search patterns, why is it necessary to use the \n",
    "raw-string indicator (r)? In replacement strings?\n",
    "Ans. Raw Strings are used in the regular-expression search patterns, so that \n",
    "backslashes don't have to escaped."
   ]
  }
 ],
 "metadata": {
  "kernelspec": {
   "display_name": "Python 3 (ipykernel)",
   "language": "python",
   "name": "python3"
  },
  "language_info": {
   "codemirror_mode": {
    "name": "ipython",
    "version": 3
   },
   "file_extension": ".py",
   "mimetype": "text/x-python",
   "name": "python",
   "nbconvert_exporter": "python",
   "pygments_lexer": "ipython3",
   "version": "3.9.7"
  }
 },
 "nbformat": 4,
 "nbformat_minor": 5
}
