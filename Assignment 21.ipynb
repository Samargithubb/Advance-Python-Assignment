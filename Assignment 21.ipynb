{
 "cells": [
  {
   "cell_type": "code",
   "execution_count": null,
   "id": "90623e02",
   "metadata": {},
   "outputs": [],
   "source": [
    "Q1. What is a probability distribution, exactly? If the values are meant to be\n",
    "random, how can you predict them at all ?\n",
    "Ans. A probability distribution describes how a random variable is distributed.\n",
    "It tells us which values a random variable is most likely to take on and which \n",
    "values are less likely. Based on the previous data and th occurences of the \n",
    "random event, we can predict the outcome in terms of probabilities."
   ]
  },
  {
   "cell_type": "code",
   "execution_count": null,
   "id": "54bbde07",
   "metadata": {},
   "outputs": [],
   "source": [
    "Q2. Is there a distinction between true random numbers and pseudo-random\n",
    "numbers, if there is one? Why are the latter considered “good enough”?\n",
    "Ans. True Random Numbers are true physical values while pseudo-random numbers \n",
    "are generated internally by a program. Latter is considered good enough as they\n",
    "have sort of uniform distribution."
   ]
  },
  {
   "cell_type": "code",
   "execution_count": null,
   "id": "a45257ab",
   "metadata": {},
   "outputs": [],
   "source": [
    "Q3. What are the two main factors that influence the behaviour of a \"normal\" \n",
    "probability distribution ?\n",
    "Ans. Normal Probability Distribution are influenced by two factors mean and the\n",
    "variance."
   ]
  },
  {
   "cell_type": "code",
   "execution_count": null,
   "id": "299c309b",
   "metadata": {},
   "outputs": [],
   "source": [
    "Q4. Provide a real-life example of a normal distribution ?\n",
    "Ans. A real-life example of a normal distribution are heights or blood pressure\n",
    "measurements."
   ]
  },
  {
   "cell_type": "code",
   "execution_count": null,
   "id": "6b4d0f84",
   "metadata": {},
   "outputs": [],
   "source": [
    "Q5. In the short term, how can you expect a probability distribution to behave?\n",
    "What do you think will happen as the number of trials grows ?\n",
    "Ans. Variance will decrease with number of trials"
   ]
  },
  {
   "cell_type": "code",
   "execution_count": null,
   "id": "b7581a65",
   "metadata": {},
   "outputs": [],
   "source": [
    "Q6. What kind of object can be shuffled by using random.shuffle ?\n",
    "Ans. Lists (list), string(str) and tuples(tuple) objects can be shuffled by \n",
    "using random.shuffle."
   ]
  },
  {
   "cell_type": "code",
   "execution_count": null,
   "id": "4cefc59a",
   "metadata": {},
   "outputs": [],
   "source": [
    "Q7. Describe the math package's general categories of functions ?\n",
    "Ans. The math package's general categories of functions are:\n",
    "1. Trigonometric functions\n",
    "2. Quadratic functions\n",
    "3. Exponential functions\n",
    "4. Hyperbolic functions\n",
    "5. Periodic functions \n",
    "6. Arithmetic functions \n",
    "7. Logarithmic functions\n",
    "8. Conversions to Integer"
   ]
  },
  {
   "cell_type": "code",
   "execution_count": null,
   "id": "387a4ffb",
   "metadata": {},
   "outputs": [],
   "source": [
    "Q8. What is the relationship between exponentiation and logarithms ?\n",
    "Ans. Exponentiation and logarithms are inverse of each other."
   ]
  },
  {
   "cell_type": "code",
   "execution_count": null,
   "id": "d07eb32e",
   "metadata": {},
   "outputs": [],
   "source": [
    "Q9. What are the three logarithmic functions that Python supports ?\n",
    "Ans. The three logarithmic functions that python supports are:\n",
    "1. log2(x)-logarithmic value of x to base 2\n",
    "2. log10(x)- logarithmic value of x to base 10\n",
    "3. log1p(a)- This function is used to compute loarithm(1+a)"
   ]
  }
 ],
 "metadata": {
  "kernelspec": {
   "display_name": "Python 3 (ipykernel)",
   "language": "python",
   "name": "python3"
  },
  "language_info": {
   "codemirror_mode": {
    "name": "ipython",
    "version": 3
   },
   "file_extension": ".py",
   "mimetype": "text/x-python",
   "name": "python",
   "nbconvert_exporter": "python",
   "pygments_lexer": "ipython3",
   "version": "3.9.7"
  }
 },
 "nbformat": 4,
 "nbformat_minor": 5
}
