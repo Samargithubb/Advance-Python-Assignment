{
 "cells": [
  {
   "cell_type": "code",
   "execution_count": 1,
   "id": "f357e7ff",
   "metadata": {},
   "outputs": [],
   "source": [
    "Q1. What is the meaning of multiple inheritance?\n",
    "Ans. Inheritence is nothing but reusing the code of Parent class by the child class.\n",
    "Similarly when a child class inherits its properties from multiple Parent classes\n",
    "this scenario is called multiple inheritance\n",
    "Exp:\n",
    "    \n",
    "class Parent_one:\n",
    "    pass\n",
    "class Parent_two:\n",
    "    pass\n",
    "class child(Parent_one,Parent_two):\n",
    "    pass"
   ]
  },
  {
   "cell_type": "code",
   "execution_count": null,
   "id": "382a5759",
   "metadata": {},
   "outputs": [],
   "source": [
    "Q2. What is the concept of delegation?\n",
    "Ans. Delegation provides a proxy object for any class that you want on top of the\n",
    "main class. Its like a wrapper to your class so that you can access limited resources\n",
    "of the main class.\n",
    "It wraps the object of main class into a smaller object with limited access\n",
    "Simply Delegation means that you can include a instance of another class as an\n",
    "instance variable ,and forward message to the instance.\n"
   ]
  },
  {
   "cell_type": "code",
   "execution_count": 3,
   "id": "b99aea4d",
   "metadata": {},
   "outputs": [
    {
     "name": "stdout",
     "output_type": "stream",
     "text": [
      "Hey i am back\n",
      "Hey i am back\n",
      "Hey i am back\n",
      "Iam the main class\n"
     ]
    }
   ],
   "source": [
    "class Myclass:\n",
    "    def sayHi(self):\n",
    "        print('Hey i am back')\n",
    "    def whoAMI(self):\n",
    "        print('Iam the main class')\n",
    "\n",
    "class Newclass:\n",
    "    def __init__(self,obj):\n",
    "        self.main=obj\n",
    "    def welcome(self):\n",
    "        self.main.sayHi()\n",
    "        \n",
    "m=Myclass()\n",
    "n=Newclass(m)\n",
    "m.sayHi()\n",
    "n.main.sayHi()\n",
    "n.welcome()\n",
    "n.main.whoAMI()"
   ]
  },
  {
   "cell_type": "code",
   "execution_count": null,
   "id": "b4560c6f",
   "metadata": {},
   "outputs": [],
   "source": [
    "Q3. What is the concept of composition?\n",
    "Ans. In the concept of Composition, a class refers to one or more other classes by\n",
    "using instance of those classes as a instance variable.Irrespective of inheritence\n",
    "in this approach all the parent class members are not inherited into child class\n",
    "but only required methods from a class are used by using clas instances."
   ]
  },
  {
   "cell_type": "code",
   "execution_count": 11,
   "id": "01d6d563",
   "metadata": {},
   "outputs": [
    {
     "name": "stdout",
     "output_type": "stream",
     "text": [
      "Total Salary :9600\n"
     ]
    }
   ],
   "source": [
    "class Salary:\n",
    "    def __init__(self,pay):\n",
    "        self.pay=pay\n",
    "    def get_total(self):\n",
    "        return self.pay*12\n",
    "    \n",
    "class Employee:\n",
    "    def __init__(self,pay,bonus):\n",
    "        self.pay=pay\n",
    "        self.bonus=bonus\n",
    "        self.obj_salary=Salary(self.pay)\n",
    "    def annual_salary(self):\n",
    "        return f'Total Salary :{str(self.obj_salary.get_total())}'\n",
    "obj_emp=Employee(800,500)\n",
    "print(obj_emp.annual_salary())"
   ]
  },
  {
   "cell_type": "code",
   "execution_count": null,
   "id": "b3385bc4",
   "metadata": {},
   "outputs": [],
   "source": [
    "Q4. What are bound methods and how do we use them?\n",
    "Ans: If a function is an attribute of class and it is accessed via the instances,\n",
    "they are called bound methods. A bound method is one that has self as its first\n",
    "argument. Since these are dependent on the instance of classes, these are also\n",
    "known as instance methods."
   ]
  },
  {
   "cell_type": "code",
   "execution_count": 11,
   "id": "6aa53b9f",
   "metadata": {},
   "outputs": [
    {
     "name": "stdout",
     "output_type": "stream",
     "text": [
      "Called method_one\n",
      "Called method_two\n",
      "Called method_two\n",
      "Called method_three\n"
     ]
    }
   ],
   "source": [
    "class Test:\n",
    "    def method_one(self): # bound method\n",
    "        print(\"Called method_one\")\n",
    "    @classmethod\n",
    "    def method_two(cls): # unbound method\n",
    "        print(\"Called method_two\")\n",
    "    @staticmethod\n",
    "    def method_three(): # static method\n",
    "        print(\"Called method_three\")\n",
    "\n",
    "test = Test()\n",
    "test.method_one() # accessing through instance object\n",
    "test.method_two() # accessing through instance object\n",
    "Test.method_two() # accessing directly through class\n",
    "Test.method_three() # accessing directly through class\n"
   ]
  },
  {
   "cell_type": "code",
   "execution_count": null,
   "id": "8f252676",
   "metadata": {},
   "outputs": [],
   "source": [
    "Q5. What is the purpose of pseudoprivate attributes?\n",
    "Ans.Pseudoprivate attributes are also useful in larger frameworks or tools, \n",
    "both to avoid introducing new method names that might accidentally hide\n",
    "definitions elsewhere in the class tree and to reduce the chance of internal\n",
    "methods being replaced by names defined lower in the tree. If a method is \n",
    "intended for use only within a class that may be mixed into other classes, \n",
    "the double underscore prefix ensures that the method won't interfere with other\n",
    "names in the tree, especially in multiple-inheritance scenarios\n",
    "\n",
    "Pseudoprivate names also prevent subclasses from accidentally redefining the\n",
    "internal method's names,"
   ]
  },
  {
   "cell_type": "code",
   "execution_count": 12,
   "id": "64f73583",
   "metadata": {},
   "outputs": [],
   "source": [
    "class Super:\n",
    "    def method(self): # A real application method\n",
    "        pass\n",
    "class Tool:\n",
    "    def _method(self): # becomes _Tool_method\n",
    "        pass\n",
    "    def other(self): # uses internal method\n",
    "        self._method()\n",
    "class Subl(Tool,Super):\n",
    "    def actions(self):\n",
    "        self.method()\n",
    "class Sub2(Tool):\n",
    "    def __init__(self):\n",
    "        self.method = 99"
   ]
  }
 ],
 "metadata": {
  "kernelspec": {
   "display_name": "Python 3 (ipykernel)",
   "language": "python",
   "name": "python3"
  },
  "language_info": {
   "codemirror_mode": {
    "name": "ipython",
    "version": 3
   },
   "file_extension": ".py",
   "mimetype": "text/x-python",
   "name": "python",
   "nbconvert_exporter": "python",
   "pygments_lexer": "ipython3",
   "version": "3.9.7"
  }
 },
 "nbformat": 4,
 "nbformat_minor": 5
}
